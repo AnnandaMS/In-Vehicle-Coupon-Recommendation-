{
  "nbformat": 4,
  "nbformat_minor": 0,
  "metadata": {
    "colab": {
      "provenance": [],
      "authorship_tag": "ABX9TyO4uapxeL5tqFvEzBH91Bbd",
      "include_colab_link": true
    },
    "kernelspec": {
      "name": "python3",
      "display_name": "Python 3"
    },
    "language_info": {
      "name": "python"
    }
  },
  "cells": [
    {
      "cell_type": "markdown",
      "metadata": {
        "id": "view-in-github",
        "colab_type": "text"
      },
      "source": [
        "<a href=\"https://colab.research.google.com/github/AnnandaMS/In-Vehicle-Coupon-Recommendation-/blob/main/Predi%C3%A7%C3%A3o_de_aceita%C3%A7%C3%A3o_de_cupons_em_ve%C3%ADculos_conectados.ipynb\" target=\"_parent\"><img src=\"https://colab.research.google.com/assets/colab-badge.svg\" alt=\"Open In Colab\"/></a>"
      ]
    },
    {
      "cell_type": "code",
      "execution_count": null,
      "metadata": {
        "id": "Xk_W7w2AHogp"
      },
      "outputs": [],
      "source": []
    },
    {
      "cell_type": "markdown",
      "source": [
        "#Predição de aceitação de cupons em veículos conectados\n"
      ],
      "metadata": {
        "id": "cmyEmAEWhQAB"
      }
    },
    {
      "cell_type": "markdown",
      "source": [
        "Este MVP foi feito a partir do MVP da sprint I, com os capítulos de definição do problema e de análise e pré-processamento de dados já elaborados anteriormente, porém ajustados para o objetivo da sprint II. O capítulo de preparação dos dados inicia o MVP desta sprint, com transformação one-hot enconding e normalização dos dados, preparação dos datasets de treino e teste e seleção dos atributos para utilização no algoritmo. Nos capítulos seguintes foram feitas a modelagem e inferência, finalização do modelo e simulação aplicando dados não vistos anteriormente."
      ],
      "metadata": {
        "id": "5RMTyaePtvdm"
      }
    },
    {
      "cell_type": "markdown",
      "source": [
        "##Definição do problema"
      ],
      "metadata": {
        "id": "TNXU0mtpNDmd"
      }
    },
    {
      "cell_type": "markdown",
      "source": [
        "###Configurações iniciais e importações"
      ],
      "metadata": {
        "id": "vzvhgsNF3hmo"
      }
    },
    {
      "cell_type": "code",
      "execution_count": null,
      "metadata": {
        "id": "zU0S_ldNvmc1"
      },
      "outputs": [],
      "source": [
        "# Configuração para não exibir os warnings\n",
        "import warnings\n",
        "warnings.filterwarnings(\"ignore\")\n",
        "\n",
        "# Importação de pacotes\n",
        "import pandas as pd\n",
        "import numpy as np\n",
        "import matplotlib.pyplot as plt\n",
        "import seaborn as sns\n",
        "from matplotlib import cm\n",
        "\n",
        "# Transformações Categóricas\n",
        "from sklearn.preprocessing import OneHotEncoder, StandardScaler\n",
        "from sklearn.preprocessing import OrdinalEncoder\n",
        "\n",
        "# Transformações Numéricas\n",
        "from sklearn.preprocessing import MinMaxScaler # para normalização\n",
        "from sklearn.preprocessing import LabelEncoder # para classe binária\n",
        "\n",
        "# Aprendizado de Máquina\n",
        "from sklearn.model_selection import train_test_split\n",
        "from sklearn.model_selection import KFold # para preparar os folds da validação cruzada\n",
        "from sklearn.ensemble import ExtraTreesClassifier # ExtraTrees, para a Importância de Atributos\n",
        "from sklearn.feature_selection import SelectKBest # para a Seleção Univariada\n",
        "from sklearn.feature_selection import f_classif # para o teste ANOVA da Seleção Univariada\n",
        "from sklearn.feature_selection import RFE # para a Eliminação Recursiva de Atributos\n",
        "from sklearn.linear_model import LogisticRegression # Regressão Logística, para a Eliminação Recursiva de Atributos\n",
        "\n",
        "from sklearn.model_selection import StratifiedKFold\n",
        "from sklearn.model_selection import cross_val_score\n",
        "from sklearn.model_selection import GridSearchCV\n",
        "from sklearn.metrics import accuracy_score\n",
        "from sklearn.pipeline import Pipeline\n",
        "from sklearn.linear_model import LogisticRegression\n",
        "from sklearn.tree import DecisionTreeClassifier\n",
        "from sklearn.neighbors import KNeighborsClassifier\n",
        "from sklearn.naive_bayes import GaussianNB\n",
        "from sklearn.svm import SVC\n",
        "from sklearn.ensemble import BaggingClassifier\n",
        "from sklearn.ensemble import RandomForestClassifier\n",
        "from sklearn.ensemble import ExtraTreesClassifier\n",
        "from sklearn.ensemble import VotingClassifier\n",
        "from sklearn.ensemble import AdaBoostClassifier\n",
        "from sklearn.ensemble import GradientBoostingClassifier\n"
      ]
    },
    {
      "cell_type": "markdown",
      "source": [
        "###Carregar o DataSet"
      ],
      "metadata": {
        "id": "0_eo_G0f3amx"
      }
    },
    {
      "cell_type": "code",
      "source": [
        "# Informa a URL de importação do dataset\n",
        "url = \"https://raw.githubusercontent.com/AnnandaMS/In-Vehicle-Coupon-Recommendation-/main/in-vehicle-coupon-recommendation.csv\"\n",
        "\n",
        "\n",
        "# Lê o arquivo\n",
        "dataset = pd.read_csv(url, delimiter=';')"
      ],
      "metadata": {
        "id": "Z_-sVLpt2oWG"
      },
      "execution_count": null,
      "outputs": []
    },
    {
      "cell_type": "markdown",
      "source": [
        "###Definição do problema"
      ],
      "metadata": {
        "id": "uTGNfQti3829"
      }
    },
    {
      "cell_type": "markdown",
      "source": [
        "Com a evolução da tecnologia, é cada vez mais comum que equipamentos sejam conectados, seja com uma rede externa, seja com outros dispositivos.\n",
        "A conectividade pode trazer diversos benefícios aos usuários e comodidades que antes não eram possíveis. Se comunicar com pessoas de todo o mundo com apenas alguns cliques e encontrar informações rapidamente são exemplos dessas mudanças.\n",
        "\n",
        "Dentro do mundo automotivo, esses benefícios estão sendo explorados com muito entusiasmo, pois trazer facilidades aos clientes é sinônimo de melhor relação com os consumidores da marca e, consequentemente, melhor posicionamento no mercado, melhor aceitação de produtos e maiores lucros para a empresa.\n",
        "\n",
        "A conectividade nos veículos já é obrigatória em alguns países, pois traz mais agilidade no atendimento de casos de emergência. Porém, é possível aproveitar desse sistema de tecnologia já instalado nos carros para uso diário, com comodidades.\n",
        "\n",
        "Um exemplo do que se pode oferecer são cupons de ofertas no multimidia do carro, que usam informações como trajeto do carro, horário e preferências pessoais para fazer sugestões de compras. Em um trajeto em que uma pessoa está voltando para casa no final do expediente, por exemplo, e que passa próximo a um supermercado, é possível sugerir um cupom de desconto nesse supermercado para itens que sejam comuns nesse horário, como pães frescos.\n",
        "\n",
        "No cenário em que a sugestão é boa e o cliente aceita o cupom, existe uma relação de ganha-ganha. O cliente ganha um desconto de um item que já precisaria, o mercado atrai clientes para sua loja e traz valores mais acessíveis, e a fabricante de carros, além de proporcionar essa experiência para seu consumidor, pode monetizar os anúncios impressos no multimídia.\n",
        "\n",
        "Em contrapartida, caso os anúncios sejam rejeitados, isso pode trazer um desconforto para o cliente, que não se interessa pelo conteúdo exposto, além de que pode ser uma distração para quem dirige. Para o mercado, foi um custo de marketing que não teve retorno, e para a fabricante, uma funcionalidade não utilizada e um cliente não totalmente satisfeito.\n",
        "Portanto, é importante ser assertivo ao oferecer os cupons.\n",
        "\n",
        "Felizmente, outro benefício dos carros conectados é poder gerar dados do comportamento de direção. É a partir desses dados que propõe-se aqui um estudo do comportamento de direção em diversos cenários, com diferentes perfis de motoristas, para entender se os cupons são aceitos ou não, e sob quais circunstâncias.\n",
        "\n"
      ],
      "metadata": {
        "id": "NivUjoQH4j6r"
      }
    },
    {
      "cell_type": "markdown",
      "source": [
        "###Definição de variáveis"
      ],
      "metadata": {
        "id": "rX0Rr39P_cuK"
      }
    },
    {
      "cell_type": "markdown",
      "source": [
        "A base de dados utilizada nesse estudo contém diversas variáveis a respeito do(a) motorista do veículo, com informações pessoais e de comportamento de direção. A variável boolena de resposta informa se o cupom foi aceito ou não, ou seja, faz uma classificação entre as duas opções. Segue abaixo o detalhamento de cada variável.\n",
        "\n",
        "**Destination**: informa se o destino do(a) motorista é casa (Home), trabalho (Work) ou outro destino não urgente (No Urgent Place).\n",
        "\n",
        "**Passanger**: informa se o(a) motorista está sozinho (a) (Alone), com amigo (a) (s) (Friend(s)), com filho(a)(s) (Kids(s)) ou parceiro (a) (Partner).\n",
        "\n",
        "**Weather**: informa se o tempo estava ensolarado (Sunny), chuvoso (Rainy) ou com neve (Snowy).\n",
        "\n",
        "**Temperature**: informa se a temperatura era aproximadamente 30°F, 55°F ou 80°F.\n",
        "\n",
        "**Time**: informa se o horário era em torno de 2pm, 10am, 6pm, 7am, ou 10pm.\n",
        "\n",
        "**Coupon**: informa se o cupom é de restaurante até USD20 (Restaurant(< USD20)), de cafeteria (Coffee House), para retirada (Carry out & Take away),  de bar (Bar) ou restaurante entre USD20 e S50 (Restaurant(USD20-USD50)).\n",
        "\n",
        "\n",
        "**Expiration**: informa se o cupom expira em até duas horas (2h) ou até um dia (1d).\n",
        "\n",
        "**Gender**: informa se o gênero do(a) motorista é feminino (Female) ou masculino (Male).\n",
        "\n",
        "**Age**: informa se a idade do(a) motorista é menor que 21 anos (under21), 21 anos, 26 anos, 31 anos, 36 anos, 41 anos, 46 anos ou acima de 50 anos (50plus).\n",
        "\n",
        "**MaritalStatus**: informa se o estado civil do(a) motorista é solteiro (Single), com parceiro(a) não casado (a) (Unmarried Partner), com parceiro(a) casado(a) (Married partner), divorciado (Divorced) ou viúvo (Widowed).\n",
        "\n",
        "**Has_children**: informa se o(a) motorista tem filho(a)(s) (1) ou não (0).\n",
        "\n",
        "**Education**: informa se o(a) motorista tem ensino médio incompleto (Some High School), ensino médio completo (High School Graduate), curso técnico (Associates degree), ensino superior incompleto (Some college - no degree), ensino superior completo (Bachelors degree) ou pós graduação - mestrado ou doutorado (Graduate degree - Masters or Doctorate).\n",
        "\n",
        "**Occupation**: informa o campo de ocupação do(a) motorista, sendo possível as seguintes opções: desempregado(a) (Unemployed), arquitetura e engenharia (Architecture & Engineering), estudante (Student), educação, treinamento e biblioteca (Education&Training&Library), suporte de saúde (Healthcare Support), profissionais de saúde e técnicos(as) (Healthcare Practitioners & Technical), vendas e relacionados (Sales & Related), gestão (Management),  design de artes de entrenetimento de esportes e mídia (Arts Design Entertainment Sports & Media), computação e matemática (Computer & Mathematical), ciência social de vida física (Life Physical Social Science), cuidados pessoais e serviços (Personal Care & Service), serviços sociais e comunitários (Community & Social Services), suporte administrativo (Office & Administrative Support), construção e extração (Construction & Extraction), legislativo(Legal), aposentado(a) (Retired), reparos e manutenção de instalações (Installation Maintenance & Repair), transporte (Transportation & Material Moving), negócios e financeiro (Business & Financial), serviço protetivo (Protective Service), preparação e serviços de alimentação (Food Preparation & Serving Related), manufatura (Production Occupations), manutenção e limpeza de prédios e pisos (Building & Grounds Cleaning & Maintenance),  agricultura, pesca e silvicultura (Farming Fishing & Forestry).\n",
        "\n",
        "**Income**: informa a renda anual do(a) motorista nos seguintes intervalos: menor que USD12500 (Less than USD12500), USD12500 - USD24999, USD25000 - USD37499, USD37500 - USD49999, USD50000 - USD62499, USD62500 - USD74999, USD75000 - USD87499,  USD87500 - USD99999 ou USD100000 ou mais (USD100000 or More).\n",
        "\n",
        "**Car**: informa o modelo de carro que o(a) motorista possui.\n",
        "\n",
        "**Bar**: responde à pergunta: \"quantas vezes por mês você vai ao bar?\", sendo as possíveis respostas: nunca (0), menos que uma vez (< 1), de uma a três vezes (1-3), de quatro e oito vezes(4-8), mais do que oito vezes (>8).\n",
        "\n",
        "**CoffeeHouse**: responde à pergunta: \"quantas vezes por mês você vai a alguma cafeteria?\", sendo as possíveis respostas: nunca (0), menos que uma vez (< 1), de uma a três vezes (1-3), de quatro e oito vezes(4-8), mais do que oito vezes (>8).\n",
        "\n",
        "**CarryAway**: responde à pergunta: \"quantas vezes por mês você compra comida para levar para casa?\", sendo as possíveis respostas: nunca (0), menos que uma vez (< 1), de uma a três vezes (1-3), de quatro e oito vezes(4-8), mais do que oito vezes (>8).\n",
        "\n",
        "**RestaurantLessThan20**: responde à pergunta: \"quantas vezes por mês você vai ao restaurante e gasta um valor médio de menor de USD20?\", sendo as possíveis respostas: nunca (0), menos que uma vez (< 1), de uma a três vezes (1-3), de quatro e oito vezes(4-8), mais do que oito vezes (>8).\n",
        "\n",
        "**Restaurant20To50**: responde à pergunta: \"quantas vezes por mês você ao restaurante e gasta um valor médio entre USD20 e $50?\", sendo as possíveis respostas: nunca (0), menos que uma vez (< 1), de uma a três vezes (1-3), de quatro e oito vezes(4-8), mais do que oito vezes (>8).\n",
        "\n",
        "**ToCoupon_GEQ5min**: informa se a distância ao local de uso do cupom é maior do que 5 minutos dirigindo (valor 1) ou não (valor 0).\n",
        "\n",
        "**ToCoupon_GEQ15min**: informa se a distância ao local de uso do cupom é maior do que 15 minutos dirigindo (valor 1) ou não (valor 0).\n",
        "\n",
        "**ToCoupon_GEQ25min**: informa se a distância ao local de uso do cupom é maior do que 25 minutos dirigindo (valor 1) ou não (valor 0).\n",
        "\n",
        "**Direction_same**: informa se o local de uso do cupom fica na mesma direção que o destino do(a) motorista (valor 1) ou não (valor 0).\n",
        "\n",
        "**Direction_opp**:informa se o local de uso do cupom fica na direção oposta que o destino do(a) motorista (valor 1) ou não (valor 0).\n",
        "\n",
        "**Y**: informa se o cupom foi aceito (valor 1) ou não (valor 0).\n"
      ],
      "metadata": {
        "id": "CTCLDOHPH4VY"
      }
    },
    {
      "cell_type": "markdown",
      "source": [
        "Analisando o problema e as variáveis propostas, foi feita uma seleção das colunas que se mostraram mais relevantes no tema. Dado que trabalho no ramo automobilístico na área de conectividade e já realizei pesquisas com usuários de carros, utilizarei da minha experiência profissional e também pessoal para essa análise inicial.\n",
        "\n",
        "A ideia é escolher variáveis que sejam relevantes para o tema, de modo a melhorar a eficiência do processamento de dados, a precisão das análises, interpretabilidade e qualidade geral dos resultados das análises.\n",
        "\n",
        "No entanto, uma análise mais aprofundada será feita em seguida para os dados selecionados, de modo a obter mais informações sobre o comportamento dos dados a alcançar uma compreensão mais completa e precisa dos dados."
      ],
      "metadata": {
        "id": "FHUEWjqTjN7H"
      }
    },
    {
      "cell_type": "code",
      "source": [
        "#Selecionando as colunas iniciais\n",
        "dataset1 = dataset[['Destination', 'Temperature', 'Time', 'Coupon', 'Gender', 'Age','Income', 'Car', 'Bar',\n",
        "                    'CoffeeHouse', 'CarryAway', 'RestaurantLessThan20', 'Restaurant20To50', 'Direction_same', 'Y']]\n"
      ],
      "metadata": {
        "id": "oHt4_l9NeiWi"
      },
      "execution_count": null,
      "outputs": []
    },
    {
      "cell_type": "markdown",
      "source": [
        "##Análise e pré-processamento de dados"
      ],
      "metadata": {
        "id": "jZOVo7cNM3Ig"
      }
    },
    {
      "cell_type": "markdown",
      "source": [
        "###Análise incial dos dados"
      ],
      "metadata": {
        "id": "62aKM7GIu7kC"
      }
    },
    {
      "cell_type": "code",
      "source": [
        "# Mostra as dimensões do dataset\n",
        "dataset1.shape\n",
        "#observa-se que existem 14 critérios, 1 variável de resposta e 12678 viagens"
      ],
      "metadata": {
        "colab": {
          "base_uri": "https://localhost:8080/"
        },
        "id": "N0UNmqRtM_nZ",
        "outputId": "326fdda4-f613-44bf-f9cc-46336cd75b85"
      },
      "execution_count": null,
      "outputs": [
        {
          "output_type": "execute_result",
          "data": {
            "text/plain": [
              "(12678, 15)"
            ]
          },
          "metadata": {},
          "execution_count": 155
        }
      ]
    },
    {
      "cell_type": "code",
      "source": [
        "# Mostra as informações do dataset\n",
        "dataset1.info()"
      ],
      "metadata": {
        "id": "k4uxo7tJNgT_",
        "colab": {
          "base_uri": "https://localhost:8080/"
        },
        "outputId": "f72673a7-800b-41c5-bbe0-2c5f4a0d5b18"
      },
      "execution_count": null,
      "outputs": [
        {
          "output_type": "stream",
          "name": "stdout",
          "text": [
            "<class 'pandas.core.frame.DataFrame'>\n",
            "RangeIndex: 12678 entries, 0 to 12677\n",
            "Data columns (total 15 columns):\n",
            " #   Column                Non-Null Count  Dtype \n",
            "---  ------                --------------  ----- \n",
            " 0   Destination           12678 non-null  object\n",
            " 1   Temperature           12678 non-null  int64 \n",
            " 2   Time                  12678 non-null  object\n",
            " 3   Coupon                12678 non-null  object\n",
            " 4   Gender                12678 non-null  object\n",
            " 5   Age                   12678 non-null  object\n",
            " 6   Income                12678 non-null  object\n",
            " 7   Car                   108 non-null    object\n",
            " 8   Bar                   12571 non-null  object\n",
            " 9   CoffeeHouse           12461 non-null  object\n",
            " 10  CarryAway             12527 non-null  object\n",
            " 11  RestaurantLessThan20  12548 non-null  object\n",
            " 12  Restaurant20To50      12489 non-null  object\n",
            " 13  Direction_same        12678 non-null  int64 \n",
            " 14  Y                     12678 non-null  int64 \n",
            "dtypes: int64(3), object(12)\n",
            "memory usage: 1.5+ MB\n"
          ]
        }
      ]
    },
    {
      "cell_type": "code",
      "source": [
        "# verificando nulls no dataset\n",
        "dataset1.isnull().sum()"
      ],
      "metadata": {
        "id": "2WBRqbdRSnIo",
        "colab": {
          "base_uri": "https://localhost:8080/"
        },
        "outputId": "38f56f4c-a64b-4129-d88b-17e183baffe5"
      },
      "execution_count": null,
      "outputs": [
        {
          "output_type": "execute_result",
          "data": {
            "text/plain": [
              "Destination                 0\n",
              "Temperature                 0\n",
              "Time                        0\n",
              "Coupon                      0\n",
              "Gender                      0\n",
              "Age                         0\n",
              "Income                      0\n",
              "Car                     12570\n",
              "Bar                       107\n",
              "CoffeeHouse               217\n",
              "CarryAway                 151\n",
              "RestaurantLessThan20      130\n",
              "Restaurant20To50          189\n",
              "Direction_same              0\n",
              "Y                           0\n",
              "dtype: int64"
            ]
          },
          "metadata": {},
          "execution_count": 157
        }
      ]
    },
    {
      "cell_type": "code",
      "source": [
        "#observa-se que a variável \"Car\" possui muitos valores null. Portanto, analisaremos com mais cuidado essa variável\n",
        "dataset1['Car']"
      ],
      "metadata": {
        "id": "UE9zv-bSO-Po",
        "colab": {
          "base_uri": "https://localhost:8080/"
        },
        "outputId": "dd274a77-a666-4dac-d6e4-c47dd3964af6"
      },
      "execution_count": null,
      "outputs": [
        {
          "output_type": "execute_result",
          "data": {
            "text/plain": [
              "0        NaN\n",
              "1        NaN\n",
              "2        NaN\n",
              "3        NaN\n",
              "4        NaN\n",
              "        ... \n",
              "12673    NaN\n",
              "12674    NaN\n",
              "12675    NaN\n",
              "12676    NaN\n",
              "12677    NaN\n",
              "Name: Car, Length: 12678, dtype: object"
            ]
          },
          "metadata": {},
          "execution_count": 158
        }
      ]
    },
    {
      "cell_type": "code",
      "source": [
        "dataset1['Car'].value_counts()"
      ],
      "metadata": {
        "id": "KiNKdHVbQnOi",
        "colab": {
          "base_uri": "https://localhost:8080/"
        },
        "outputId": "dee3d433-4fac-423b-c534-86d42c4f0653"
      },
      "execution_count": null,
      "outputs": [
        {
          "output_type": "execute_result",
          "data": {
            "text/plain": [
              "Scooter and motorcycle                   22\n",
              "Mazda5                                   22\n",
              "do not drive                             22\n",
              "crossover                                21\n",
              "Car that is too old to install Onstar    21\n",
              "Name: Car, dtype: int64"
            ]
          },
          "metadata": {},
          "execution_count": 159
        }
      ]
    },
    {
      "cell_type": "markdown",
      "source": [
        "Observa-se que as variáveis que não tem elementos nulos, não são coerentes. Como se trata de uma base de dados para carros conectados, não é possível adquirir valores válidos para motocicletas, Mazda5, motoristas que não dirigem, crossover (que não especifica o modelo) ou quando o carro é muito antigo para instalar o aplicativo de conectividade Onstar. Neste caso, partiremos do pressuposto que esses dados não são válidos, e os dados que não possuem restrições nessa coluna, ou seja, os null, são os valores válidos.\n",
        "\n",
        "Portanto, os dados inválidos serão excluídos do dataset."
      ],
      "metadata": {
        "id": "XZX_td2oSJQ6"
      }
    },
    {
      "cell_type": "markdown",
      "source": [
        "###Limpeza dos dados"
      ],
      "metadata": {
        "id": "zPc0-GPTmhoX"
      }
    },
    {
      "cell_type": "code",
      "source": [
        "index_def = dataset1[(dataset1['Car']=='Scooter and motorcycle') | (dataset1['Car']=='Mazda5') |\n",
        "                    (dataset1['Car'] == 'do not drive') | (dataset1['Car']=='crossover') |\n",
        "                    (dataset1['Car'] == 'Car that is too old to install Onstar')].index\n",
        "dataset1 = dataset1.drop(index_def)\n",
        "\n",
        "\n",
        "dataset1.shape"
      ],
      "metadata": {
        "id": "eVXHnLGTUb_0",
        "colab": {
          "base_uri": "https://localhost:8080/"
        },
        "outputId": "9b014c41-04d1-4256-c4b0-3bf7eb111df6"
      },
      "execution_count": null,
      "outputs": [
        {
          "output_type": "execute_result",
          "data": {
            "text/plain": [
              "(12570, 15)"
            ]
          },
          "metadata": {},
          "execution_count": 160
        }
      ]
    },
    {
      "cell_type": "code",
      "source": [
        "dataset1['Car'].value_counts()\n"
      ],
      "metadata": {
        "id": "wMvkj3S_HuoO",
        "colab": {
          "base_uri": "https://localhost:8080/"
        },
        "outputId": "f8afd613-89a8-4002-b2df-7368ad33013f"
      },
      "execution_count": null,
      "outputs": [
        {
          "output_type": "execute_result",
          "data": {
            "text/plain": [
              "Series([], Name: Car, dtype: int64)"
            ]
          },
          "metadata": {},
          "execution_count": 161
        }
      ]
    },
    {
      "cell_type": "code",
      "source": [
        "#percebe-se que não há mais nenhum valor válido na coluna 'car'. Portanto, ela pode ser excluída.\n",
        "dataset1 = dataset1.drop('Car', axis=1)"
      ],
      "metadata": {
        "id": "CWBP4ra3p2PD"
      },
      "execution_count": null,
      "outputs": []
    },
    {
      "cell_type": "code",
      "source": [
        "#Agora, é seguro eliminar as linhas com valores null, já que não há mais a coluna 'car'\n",
        "# eliminando linhas que tenham algum valor missing\n",
        "dataset1.dropna(how='any', inplace=True)\n",
        "\n",
        "# exibindo as dimensões do dataset\n",
        "print(dataset1.shape)"
      ],
      "metadata": {
        "id": "QRpMaF0rqWHa",
        "colab": {
          "base_uri": "https://localhost:8080/"
        },
        "outputId": "c7c9c7ed-f394-4d65-d222-a923e04d438e"
      },
      "execution_count": null,
      "outputs": [
        {
          "output_type": "stream",
          "name": "stdout",
          "text": [
            "(11965, 14)\n"
          ]
        }
      ]
    },
    {
      "cell_type": "code",
      "source": [
        "# verificando novamente nulls no dataset\n",
        "dataset1.isnull().sum()"
      ],
      "metadata": {
        "id": "u0OuQEJXIjOb",
        "colab": {
          "base_uri": "https://localhost:8080/"
        },
        "outputId": "5765259f-8601-4618-9472-9c8fa8df431b"
      },
      "execution_count": null,
      "outputs": [
        {
          "output_type": "execute_result",
          "data": {
            "text/plain": [
              "Destination             0\n",
              "Temperature             0\n",
              "Time                    0\n",
              "Coupon                  0\n",
              "Gender                  0\n",
              "Age                     0\n",
              "Income                  0\n",
              "Bar                     0\n",
              "CoffeeHouse             0\n",
              "CarryAway               0\n",
              "RestaurantLessThan20    0\n",
              "Restaurant20To50        0\n",
              "Direction_same          0\n",
              "Y                       0\n",
              "dtype: int64"
            ]
          },
          "metadata": {},
          "execution_count": 164
        }
      ]
    },
    {
      "cell_type": "code",
      "source": [
        "#Não há mais nenhum valor null no dataset\n",
        "# Mostra as 10 primeiras linhas do dataset\n",
        "dataset1.head(10)"
      ],
      "metadata": {
        "id": "24PUuCsKPSNF",
        "colab": {
          "base_uri": "https://localhost:8080/"
        },
        "outputId": "6f37177f-71e2-4498-9db5-add970bf4b9a"
      },
      "execution_count": null,
      "outputs": [
        {
          "output_type": "execute_result",
          "data": {
            "text/plain": [
              "        Destination  Temperature  Time                 Coupon Gender Age  \\\n",
              "22  No Urgent Place           55   2PM        Restaurant(<20)   Male  21   \n",
              "23  No Urgent Place           80  10AM           Coffee House   Male  21   \n",
              "24  No Urgent Place           80  10AM                    Bar   Male  21   \n",
              "25  No Urgent Place           80  10AM  Carry out & Take away   Male  21   \n",
              "26  No Urgent Place           80   2PM           Coffee House   Male  21   \n",
              "27  No Urgent Place           80   2PM           Coffee House   Male  21   \n",
              "28  No Urgent Place           80   2PM           Coffee House   Male  21   \n",
              "29  No Urgent Place           80   2PM        Restaurant(<20)   Male  21   \n",
              "30  No Urgent Place           80   6PM           Coffee House   Male  21   \n",
              "31  No Urgent Place           80   6PM        Restaurant(<20)   Male  21   \n",
              "\n",
              "             Income Bar CoffeeHouse CarryAway RestaurantLessThan20  \\\n",
              "22  $62500 - $74999   0          <1       4-8                  4-8   \n",
              "23  $62500 - $74999   0          <1       4-8                  4-8   \n",
              "24  $62500 - $74999   0          <1       4-8                  4-8   \n",
              "25  $62500 - $74999   0          <1       4-8                  4-8   \n",
              "26  $62500 - $74999   0          <1       4-8                  4-8   \n",
              "27  $62500 - $74999   0          <1       4-8                  4-8   \n",
              "28  $62500 - $74999   0          <1       4-8                  4-8   \n",
              "29  $62500 - $74999   0          <1       4-8                  4-8   \n",
              "30  $62500 - $74999   0          <1       4-8                  4-8   \n",
              "31  $62500 - $74999   0          <1       4-8                  4-8   \n",
              "\n",
              "   Restaurant20To50  Direction_same  Y  \n",
              "22               <1               0  1  \n",
              "23               <1               0  0  \n",
              "24               <1               0  1  \n",
              "25               <1               0  0  \n",
              "26               <1               0  0  \n",
              "27               <1               0  0  \n",
              "28               <1               0  0  \n",
              "29               <1               0  1  \n",
              "30               <1               0  0  \n",
              "31               <1               0  1  "
            ],
            "text/html": [
              "\n",
              "\n",
              "  <div id=\"df-7ef5e632-eadb-4b58-9353-83e28d5ce79f\">\n",
              "    <div class=\"colab-df-container\">\n",
              "      <div>\n",
              "<style scoped>\n",
              "    .dataframe tbody tr th:only-of-type {\n",
              "        vertical-align: middle;\n",
              "    }\n",
              "\n",
              "    .dataframe tbody tr th {\n",
              "        vertical-align: top;\n",
              "    }\n",
              "\n",
              "    .dataframe thead th {\n",
              "        text-align: right;\n",
              "    }\n",
              "</style>\n",
              "<table border=\"1\" class=\"dataframe\">\n",
              "  <thead>\n",
              "    <tr style=\"text-align: right;\">\n",
              "      <th></th>\n",
              "      <th>Destination</th>\n",
              "      <th>Temperature</th>\n",
              "      <th>Time</th>\n",
              "      <th>Coupon</th>\n",
              "      <th>Gender</th>\n",
              "      <th>Age</th>\n",
              "      <th>Income</th>\n",
              "      <th>Bar</th>\n",
              "      <th>CoffeeHouse</th>\n",
              "      <th>CarryAway</th>\n",
              "      <th>RestaurantLessThan20</th>\n",
              "      <th>Restaurant20To50</th>\n",
              "      <th>Direction_same</th>\n",
              "      <th>Y</th>\n",
              "    </tr>\n",
              "  </thead>\n",
              "  <tbody>\n",
              "    <tr>\n",
              "      <th>22</th>\n",
              "      <td>No Urgent Place</td>\n",
              "      <td>55</td>\n",
              "      <td>2PM</td>\n",
              "      <td>Restaurant(&lt;20)</td>\n",
              "      <td>Male</td>\n",
              "      <td>21</td>\n",
              "      <td>$62500 - $74999</td>\n",
              "      <td>0</td>\n",
              "      <td>&lt;1</td>\n",
              "      <td>4-8</td>\n",
              "      <td>4-8</td>\n",
              "      <td>&lt;1</td>\n",
              "      <td>0</td>\n",
              "      <td>1</td>\n",
              "    </tr>\n",
              "    <tr>\n",
              "      <th>23</th>\n",
              "      <td>No Urgent Place</td>\n",
              "      <td>80</td>\n",
              "      <td>10AM</td>\n",
              "      <td>Coffee House</td>\n",
              "      <td>Male</td>\n",
              "      <td>21</td>\n",
              "      <td>$62500 - $74999</td>\n",
              "      <td>0</td>\n",
              "      <td>&lt;1</td>\n",
              "      <td>4-8</td>\n",
              "      <td>4-8</td>\n",
              "      <td>&lt;1</td>\n",
              "      <td>0</td>\n",
              "      <td>0</td>\n",
              "    </tr>\n",
              "    <tr>\n",
              "      <th>24</th>\n",
              "      <td>No Urgent Place</td>\n",
              "      <td>80</td>\n",
              "      <td>10AM</td>\n",
              "      <td>Bar</td>\n",
              "      <td>Male</td>\n",
              "      <td>21</td>\n",
              "      <td>$62500 - $74999</td>\n",
              "      <td>0</td>\n",
              "      <td>&lt;1</td>\n",
              "      <td>4-8</td>\n",
              "      <td>4-8</td>\n",
              "      <td>&lt;1</td>\n",
              "      <td>0</td>\n",
              "      <td>1</td>\n",
              "    </tr>\n",
              "    <tr>\n",
              "      <th>25</th>\n",
              "      <td>No Urgent Place</td>\n",
              "      <td>80</td>\n",
              "      <td>10AM</td>\n",
              "      <td>Carry out &amp; Take away</td>\n",
              "      <td>Male</td>\n",
              "      <td>21</td>\n",
              "      <td>$62500 - $74999</td>\n",
              "      <td>0</td>\n",
              "      <td>&lt;1</td>\n",
              "      <td>4-8</td>\n",
              "      <td>4-8</td>\n",
              "      <td>&lt;1</td>\n",
              "      <td>0</td>\n",
              "      <td>0</td>\n",
              "    </tr>\n",
              "    <tr>\n",
              "      <th>26</th>\n",
              "      <td>No Urgent Place</td>\n",
              "      <td>80</td>\n",
              "      <td>2PM</td>\n",
              "      <td>Coffee House</td>\n",
              "      <td>Male</td>\n",
              "      <td>21</td>\n",
              "      <td>$62500 - $74999</td>\n",
              "      <td>0</td>\n",
              "      <td>&lt;1</td>\n",
              "      <td>4-8</td>\n",
              "      <td>4-8</td>\n",
              "      <td>&lt;1</td>\n",
              "      <td>0</td>\n",
              "      <td>0</td>\n",
              "    </tr>\n",
              "    <tr>\n",
              "      <th>27</th>\n",
              "      <td>No Urgent Place</td>\n",
              "      <td>80</td>\n",
              "      <td>2PM</td>\n",
              "      <td>Coffee House</td>\n",
              "      <td>Male</td>\n",
              "      <td>21</td>\n",
              "      <td>$62500 - $74999</td>\n",
              "      <td>0</td>\n",
              "      <td>&lt;1</td>\n",
              "      <td>4-8</td>\n",
              "      <td>4-8</td>\n",
              "      <td>&lt;1</td>\n",
              "      <td>0</td>\n",
              "      <td>0</td>\n",
              "    </tr>\n",
              "    <tr>\n",
              "      <th>28</th>\n",
              "      <td>No Urgent Place</td>\n",
              "      <td>80</td>\n",
              "      <td>2PM</td>\n",
              "      <td>Coffee House</td>\n",
              "      <td>Male</td>\n",
              "      <td>21</td>\n",
              "      <td>$62500 - $74999</td>\n",
              "      <td>0</td>\n",
              "      <td>&lt;1</td>\n",
              "      <td>4-8</td>\n",
              "      <td>4-8</td>\n",
              "      <td>&lt;1</td>\n",
              "      <td>0</td>\n",
              "      <td>0</td>\n",
              "    </tr>\n",
              "    <tr>\n",
              "      <th>29</th>\n",
              "      <td>No Urgent Place</td>\n",
              "      <td>80</td>\n",
              "      <td>2PM</td>\n",
              "      <td>Restaurant(&lt;20)</td>\n",
              "      <td>Male</td>\n",
              "      <td>21</td>\n",
              "      <td>$62500 - $74999</td>\n",
              "      <td>0</td>\n",
              "      <td>&lt;1</td>\n",
              "      <td>4-8</td>\n",
              "      <td>4-8</td>\n",
              "      <td>&lt;1</td>\n",
              "      <td>0</td>\n",
              "      <td>1</td>\n",
              "    </tr>\n",
              "    <tr>\n",
              "      <th>30</th>\n",
              "      <td>No Urgent Place</td>\n",
              "      <td>80</td>\n",
              "      <td>6PM</td>\n",
              "      <td>Coffee House</td>\n",
              "      <td>Male</td>\n",
              "      <td>21</td>\n",
              "      <td>$62500 - $74999</td>\n",
              "      <td>0</td>\n",
              "      <td>&lt;1</td>\n",
              "      <td>4-8</td>\n",
              "      <td>4-8</td>\n",
              "      <td>&lt;1</td>\n",
              "      <td>0</td>\n",
              "      <td>0</td>\n",
              "    </tr>\n",
              "    <tr>\n",
              "      <th>31</th>\n",
              "      <td>No Urgent Place</td>\n",
              "      <td>80</td>\n",
              "      <td>6PM</td>\n",
              "      <td>Restaurant(&lt;20)</td>\n",
              "      <td>Male</td>\n",
              "      <td>21</td>\n",
              "      <td>$62500 - $74999</td>\n",
              "      <td>0</td>\n",
              "      <td>&lt;1</td>\n",
              "      <td>4-8</td>\n",
              "      <td>4-8</td>\n",
              "      <td>&lt;1</td>\n",
              "      <td>0</td>\n",
              "      <td>1</td>\n",
              "    </tr>\n",
              "  </tbody>\n",
              "</table>\n",
              "</div>\n",
              "      <button class=\"colab-df-convert\" onclick=\"convertToInteractive('df-7ef5e632-eadb-4b58-9353-83e28d5ce79f')\"\n",
              "              title=\"Convert this dataframe to an interactive table.\"\n",
              "              style=\"display:none;\">\n",
              "\n",
              "  <svg xmlns=\"http://www.w3.org/2000/svg\" height=\"24px\"viewBox=\"0 0 24 24\"\n",
              "       width=\"24px\">\n",
              "    <path d=\"M0 0h24v24H0V0z\" fill=\"none\"/>\n",
              "    <path d=\"M18.56 5.44l.94 2.06.94-2.06 2.06-.94-2.06-.94-.94-2.06-.94 2.06-2.06.94zm-11 1L8.5 8.5l.94-2.06 2.06-.94-2.06-.94L8.5 2.5l-.94 2.06-2.06.94zm10 10l.94 2.06.94-2.06 2.06-.94-2.06-.94-.94-2.06-.94 2.06-2.06.94z\"/><path d=\"M17.41 7.96l-1.37-1.37c-.4-.4-.92-.59-1.43-.59-.52 0-1.04.2-1.43.59L10.3 9.45l-7.72 7.72c-.78.78-.78 2.05 0 2.83L4 21.41c.39.39.9.59 1.41.59.51 0 1.02-.2 1.41-.59l7.78-7.78 2.81-2.81c.8-.78.8-2.07 0-2.86zM5.41 20L4 18.59l7.72-7.72 1.47 1.35L5.41 20z\"/>\n",
              "  </svg>\n",
              "      </button>\n",
              "\n",
              "\n",
              "\n",
              "    <div id=\"df-47a43e21-0187-473b-9220-c4aacf8bbb04\">\n",
              "      <button class=\"colab-df-quickchart\" onclick=\"quickchart('df-47a43e21-0187-473b-9220-c4aacf8bbb04')\"\n",
              "              title=\"Suggest charts.\"\n",
              "              style=\"display:none;\">\n",
              "\n",
              "<svg xmlns=\"http://www.w3.org/2000/svg\" height=\"24px\"viewBox=\"0 0 24 24\"\n",
              "     width=\"24px\">\n",
              "    <g>\n",
              "        <path d=\"M19 3H5c-1.1 0-2 .9-2 2v14c0 1.1.9 2 2 2h14c1.1 0 2-.9 2-2V5c0-1.1-.9-2-2-2zM9 17H7v-7h2v7zm4 0h-2V7h2v10zm4 0h-2v-4h2v4z\"/>\n",
              "    </g>\n",
              "</svg>\n",
              "      </button>\n",
              "    </div>\n",
              "\n",
              "<style>\n",
              "  .colab-df-quickchart {\n",
              "    background-color: #E8F0FE;\n",
              "    border: none;\n",
              "    border-radius: 50%;\n",
              "    cursor: pointer;\n",
              "    display: none;\n",
              "    fill: #1967D2;\n",
              "    height: 32px;\n",
              "    padding: 0 0 0 0;\n",
              "    width: 32px;\n",
              "  }\n",
              "\n",
              "  .colab-df-quickchart:hover {\n",
              "    background-color: #E2EBFA;\n",
              "    box-shadow: 0px 1px 2px rgba(60, 64, 67, 0.3), 0px 1px 3px 1px rgba(60, 64, 67, 0.15);\n",
              "    fill: #174EA6;\n",
              "  }\n",
              "\n",
              "  [theme=dark] .colab-df-quickchart {\n",
              "    background-color: #3B4455;\n",
              "    fill: #D2E3FC;\n",
              "  }\n",
              "\n",
              "  [theme=dark] .colab-df-quickchart:hover {\n",
              "    background-color: #434B5C;\n",
              "    box-shadow: 0px 1px 3px 1px rgba(0, 0, 0, 0.15);\n",
              "    filter: drop-shadow(0px 1px 2px rgba(0, 0, 0, 0.3));\n",
              "    fill: #FFFFFF;\n",
              "  }\n",
              "</style>\n",
              "\n",
              "    <script>\n",
              "      async function quickchart(key) {\n",
              "        const containerElement = document.querySelector('#' + key);\n",
              "        const charts = await google.colab.kernel.invokeFunction(\n",
              "            'suggestCharts', [key], {});\n",
              "      }\n",
              "    </script>\n",
              "\n",
              "      <script>\n",
              "\n",
              "function displayQuickchartButton(domScope) {\n",
              "  let quickchartButtonEl =\n",
              "    domScope.querySelector('#df-47a43e21-0187-473b-9220-c4aacf8bbb04 button.colab-df-quickchart');\n",
              "  quickchartButtonEl.style.display =\n",
              "    google.colab.kernel.accessAllowed ? 'block' : 'none';\n",
              "}\n",
              "\n",
              "        displayQuickchartButton(document);\n",
              "      </script>\n",
              "      <style>\n",
              "    .colab-df-container {\n",
              "      display:flex;\n",
              "      flex-wrap:wrap;\n",
              "      gap: 12px;\n",
              "    }\n",
              "\n",
              "    .colab-df-convert {\n",
              "      background-color: #E8F0FE;\n",
              "      border: none;\n",
              "      border-radius: 50%;\n",
              "      cursor: pointer;\n",
              "      display: none;\n",
              "      fill: #1967D2;\n",
              "      height: 32px;\n",
              "      padding: 0 0 0 0;\n",
              "      width: 32px;\n",
              "    }\n",
              "\n",
              "    .colab-df-convert:hover {\n",
              "      background-color: #E2EBFA;\n",
              "      box-shadow: 0px 1px 2px rgba(60, 64, 67, 0.3), 0px 1px 3px 1px rgba(60, 64, 67, 0.15);\n",
              "      fill: #174EA6;\n",
              "    }\n",
              "\n",
              "    [theme=dark] .colab-df-convert {\n",
              "      background-color: #3B4455;\n",
              "      fill: #D2E3FC;\n",
              "    }\n",
              "\n",
              "    [theme=dark] .colab-df-convert:hover {\n",
              "      background-color: #434B5C;\n",
              "      box-shadow: 0px 1px 3px 1px rgba(0, 0, 0, 0.15);\n",
              "      filter: drop-shadow(0px 1px 2px rgba(0, 0, 0, 0.3));\n",
              "      fill: #FFFFFF;\n",
              "    }\n",
              "  </style>\n",
              "\n",
              "      <script>\n",
              "        const buttonEl =\n",
              "          document.querySelector('#df-7ef5e632-eadb-4b58-9353-83e28d5ce79f button.colab-df-convert');\n",
              "        buttonEl.style.display =\n",
              "          google.colab.kernel.accessAllowed ? 'block' : 'none';\n",
              "\n",
              "        async function convertToInteractive(key) {\n",
              "          const element = document.querySelector('#df-7ef5e632-eadb-4b58-9353-83e28d5ce79f');\n",
              "          const dataTable =\n",
              "            await google.colab.kernel.invokeFunction('convertToInteractive',\n",
              "                                                     [key], {});\n",
              "          if (!dataTable) return;\n",
              "\n",
              "          const docLinkHtml = 'Like what you see? Visit the ' +\n",
              "            '<a target=\"_blank\" href=https://colab.research.google.com/notebooks/data_table.ipynb>data table notebook</a>'\n",
              "            + ' to learn more about interactive tables.';\n",
              "          element.innerHTML = '';\n",
              "          dataTable['output_type'] = 'display_data';\n",
              "          await google.colab.output.renderOutput(dataTable, element);\n",
              "          const docLink = document.createElement('div');\n",
              "          docLink.innerHTML = docLinkHtml;\n",
              "          element.appendChild(docLink);\n",
              "        }\n",
              "      </script>\n",
              "    </div>\n",
              "  </div>\n"
            ]
          },
          "metadata": {},
          "execution_count": 165
        }
      ]
    },
    {
      "cell_type": "markdown",
      "source": [
        "###Manipulação de variáveis"
      ],
      "metadata": {
        "id": "A9WkNkDBmxc3"
      }
    },
    {
      "cell_type": "markdown",
      "source": [
        "Observa-se que para as variáveis de frequência 'Bar', 'CoffeeHouse', 'CarryAway', 'RestaurantLessThan20' e 'Restaurant20To50, existem valores para frequência 0 e menor que 1. Como se trata de uma variável inteira, não faz sentido ter a diferenciação entre elas. Logo, os dois valores serão agrupados em \"0\"."
      ],
      "metadata": {
        "id": "1cXGy3eK3OfA"
      }
    },
    {
      "cell_type": "code",
      "source": [
        "#selecionando as colunas para fazer as alterações\n",
        "colunas = ['Bar', 'CoffeeHouse', 'CarryAway', 'RestaurantLessThan20', 'Restaurant20To50']\n",
        "dataset1[colunas] = dataset1[colunas].replace('<1','0')\n",
        "dataset1.head()\n"
      ],
      "metadata": {
        "id": "4Z7dd6PO30wf",
        "colab": {
          "base_uri": "https://localhost:8080/"
        },
        "outputId": "c1c7e764-7168-42a2-9635-c16abfec4e35"
      },
      "execution_count": null,
      "outputs": [
        {
          "output_type": "execute_result",
          "data": {
            "text/plain": [
              "        Destination  Temperature  Time                 Coupon Gender Age  \\\n",
              "22  No Urgent Place           55   2PM        Restaurant(<20)   Male  21   \n",
              "23  No Urgent Place           80  10AM           Coffee House   Male  21   \n",
              "24  No Urgent Place           80  10AM                    Bar   Male  21   \n",
              "25  No Urgent Place           80  10AM  Carry out & Take away   Male  21   \n",
              "26  No Urgent Place           80   2PM           Coffee House   Male  21   \n",
              "\n",
              "             Income Bar CoffeeHouse CarryAway RestaurantLessThan20  \\\n",
              "22  $62500 - $74999   0           0       4-8                  4-8   \n",
              "23  $62500 - $74999   0           0       4-8                  4-8   \n",
              "24  $62500 - $74999   0           0       4-8                  4-8   \n",
              "25  $62500 - $74999   0           0       4-8                  4-8   \n",
              "26  $62500 - $74999   0           0       4-8                  4-8   \n",
              "\n",
              "   Restaurant20To50  Direction_same  Y  \n",
              "22                0               0  1  \n",
              "23                0               0  0  \n",
              "24                0               0  1  \n",
              "25                0               0  0  \n",
              "26                0               0  0  "
            ],
            "text/html": [
              "\n",
              "\n",
              "  <div id=\"df-d5b6819c-61a5-4eda-9b95-7699377c9e07\">\n",
              "    <div class=\"colab-df-container\">\n",
              "      <div>\n",
              "<style scoped>\n",
              "    .dataframe tbody tr th:only-of-type {\n",
              "        vertical-align: middle;\n",
              "    }\n",
              "\n",
              "    .dataframe tbody tr th {\n",
              "        vertical-align: top;\n",
              "    }\n",
              "\n",
              "    .dataframe thead th {\n",
              "        text-align: right;\n",
              "    }\n",
              "</style>\n",
              "<table border=\"1\" class=\"dataframe\">\n",
              "  <thead>\n",
              "    <tr style=\"text-align: right;\">\n",
              "      <th></th>\n",
              "      <th>Destination</th>\n",
              "      <th>Temperature</th>\n",
              "      <th>Time</th>\n",
              "      <th>Coupon</th>\n",
              "      <th>Gender</th>\n",
              "      <th>Age</th>\n",
              "      <th>Income</th>\n",
              "      <th>Bar</th>\n",
              "      <th>CoffeeHouse</th>\n",
              "      <th>CarryAway</th>\n",
              "      <th>RestaurantLessThan20</th>\n",
              "      <th>Restaurant20To50</th>\n",
              "      <th>Direction_same</th>\n",
              "      <th>Y</th>\n",
              "    </tr>\n",
              "  </thead>\n",
              "  <tbody>\n",
              "    <tr>\n",
              "      <th>22</th>\n",
              "      <td>No Urgent Place</td>\n",
              "      <td>55</td>\n",
              "      <td>2PM</td>\n",
              "      <td>Restaurant(&lt;20)</td>\n",
              "      <td>Male</td>\n",
              "      <td>21</td>\n",
              "      <td>$62500 - $74999</td>\n",
              "      <td>0</td>\n",
              "      <td>0</td>\n",
              "      <td>4-8</td>\n",
              "      <td>4-8</td>\n",
              "      <td>0</td>\n",
              "      <td>0</td>\n",
              "      <td>1</td>\n",
              "    </tr>\n",
              "    <tr>\n",
              "      <th>23</th>\n",
              "      <td>No Urgent Place</td>\n",
              "      <td>80</td>\n",
              "      <td>10AM</td>\n",
              "      <td>Coffee House</td>\n",
              "      <td>Male</td>\n",
              "      <td>21</td>\n",
              "      <td>$62500 - $74999</td>\n",
              "      <td>0</td>\n",
              "      <td>0</td>\n",
              "      <td>4-8</td>\n",
              "      <td>4-8</td>\n",
              "      <td>0</td>\n",
              "      <td>0</td>\n",
              "      <td>0</td>\n",
              "    </tr>\n",
              "    <tr>\n",
              "      <th>24</th>\n",
              "      <td>No Urgent Place</td>\n",
              "      <td>80</td>\n",
              "      <td>10AM</td>\n",
              "      <td>Bar</td>\n",
              "      <td>Male</td>\n",
              "      <td>21</td>\n",
              "      <td>$62500 - $74999</td>\n",
              "      <td>0</td>\n",
              "      <td>0</td>\n",
              "      <td>4-8</td>\n",
              "      <td>4-8</td>\n",
              "      <td>0</td>\n",
              "      <td>0</td>\n",
              "      <td>1</td>\n",
              "    </tr>\n",
              "    <tr>\n",
              "      <th>25</th>\n",
              "      <td>No Urgent Place</td>\n",
              "      <td>80</td>\n",
              "      <td>10AM</td>\n",
              "      <td>Carry out &amp; Take away</td>\n",
              "      <td>Male</td>\n",
              "      <td>21</td>\n",
              "      <td>$62500 - $74999</td>\n",
              "      <td>0</td>\n",
              "      <td>0</td>\n",
              "      <td>4-8</td>\n",
              "      <td>4-8</td>\n",
              "      <td>0</td>\n",
              "      <td>0</td>\n",
              "      <td>0</td>\n",
              "    </tr>\n",
              "    <tr>\n",
              "      <th>26</th>\n",
              "      <td>No Urgent Place</td>\n",
              "      <td>80</td>\n",
              "      <td>2PM</td>\n",
              "      <td>Coffee House</td>\n",
              "      <td>Male</td>\n",
              "      <td>21</td>\n",
              "      <td>$62500 - $74999</td>\n",
              "      <td>0</td>\n",
              "      <td>0</td>\n",
              "      <td>4-8</td>\n",
              "      <td>4-8</td>\n",
              "      <td>0</td>\n",
              "      <td>0</td>\n",
              "      <td>0</td>\n",
              "    </tr>\n",
              "  </tbody>\n",
              "</table>\n",
              "</div>\n",
              "      <button class=\"colab-df-convert\" onclick=\"convertToInteractive('df-d5b6819c-61a5-4eda-9b95-7699377c9e07')\"\n",
              "              title=\"Convert this dataframe to an interactive table.\"\n",
              "              style=\"display:none;\">\n",
              "\n",
              "  <svg xmlns=\"http://www.w3.org/2000/svg\" height=\"24px\"viewBox=\"0 0 24 24\"\n",
              "       width=\"24px\">\n",
              "    <path d=\"M0 0h24v24H0V0z\" fill=\"none\"/>\n",
              "    <path d=\"M18.56 5.44l.94 2.06.94-2.06 2.06-.94-2.06-.94-.94-2.06-.94 2.06-2.06.94zm-11 1L8.5 8.5l.94-2.06 2.06-.94-2.06-.94L8.5 2.5l-.94 2.06-2.06.94zm10 10l.94 2.06.94-2.06 2.06-.94-2.06-.94-.94-2.06-.94 2.06-2.06.94z\"/><path d=\"M17.41 7.96l-1.37-1.37c-.4-.4-.92-.59-1.43-.59-.52 0-1.04.2-1.43.59L10.3 9.45l-7.72 7.72c-.78.78-.78 2.05 0 2.83L4 21.41c.39.39.9.59 1.41.59.51 0 1.02-.2 1.41-.59l7.78-7.78 2.81-2.81c.8-.78.8-2.07 0-2.86zM5.41 20L4 18.59l7.72-7.72 1.47 1.35L5.41 20z\"/>\n",
              "  </svg>\n",
              "      </button>\n",
              "\n",
              "\n",
              "\n",
              "    <div id=\"df-93d34c01-339d-42e6-9d93-c4476a46bee8\">\n",
              "      <button class=\"colab-df-quickchart\" onclick=\"quickchart('df-93d34c01-339d-42e6-9d93-c4476a46bee8')\"\n",
              "              title=\"Suggest charts.\"\n",
              "              style=\"display:none;\">\n",
              "\n",
              "<svg xmlns=\"http://www.w3.org/2000/svg\" height=\"24px\"viewBox=\"0 0 24 24\"\n",
              "     width=\"24px\">\n",
              "    <g>\n",
              "        <path d=\"M19 3H5c-1.1 0-2 .9-2 2v14c0 1.1.9 2 2 2h14c1.1 0 2-.9 2-2V5c0-1.1-.9-2-2-2zM9 17H7v-7h2v7zm4 0h-2V7h2v10zm4 0h-2v-4h2v4z\"/>\n",
              "    </g>\n",
              "</svg>\n",
              "      </button>\n",
              "    </div>\n",
              "\n",
              "<style>\n",
              "  .colab-df-quickchart {\n",
              "    background-color: #E8F0FE;\n",
              "    border: none;\n",
              "    border-radius: 50%;\n",
              "    cursor: pointer;\n",
              "    display: none;\n",
              "    fill: #1967D2;\n",
              "    height: 32px;\n",
              "    padding: 0 0 0 0;\n",
              "    width: 32px;\n",
              "  }\n",
              "\n",
              "  .colab-df-quickchart:hover {\n",
              "    background-color: #E2EBFA;\n",
              "    box-shadow: 0px 1px 2px rgba(60, 64, 67, 0.3), 0px 1px 3px 1px rgba(60, 64, 67, 0.15);\n",
              "    fill: #174EA6;\n",
              "  }\n",
              "\n",
              "  [theme=dark] .colab-df-quickchart {\n",
              "    background-color: #3B4455;\n",
              "    fill: #D2E3FC;\n",
              "  }\n",
              "\n",
              "  [theme=dark] .colab-df-quickchart:hover {\n",
              "    background-color: #434B5C;\n",
              "    box-shadow: 0px 1px 3px 1px rgba(0, 0, 0, 0.15);\n",
              "    filter: drop-shadow(0px 1px 2px rgba(0, 0, 0, 0.3));\n",
              "    fill: #FFFFFF;\n",
              "  }\n",
              "</style>\n",
              "\n",
              "    <script>\n",
              "      async function quickchart(key) {\n",
              "        const containerElement = document.querySelector('#' + key);\n",
              "        const charts = await google.colab.kernel.invokeFunction(\n",
              "            'suggestCharts', [key], {});\n",
              "      }\n",
              "    </script>\n",
              "\n",
              "      <script>\n",
              "\n",
              "function displayQuickchartButton(domScope) {\n",
              "  let quickchartButtonEl =\n",
              "    domScope.querySelector('#df-93d34c01-339d-42e6-9d93-c4476a46bee8 button.colab-df-quickchart');\n",
              "  quickchartButtonEl.style.display =\n",
              "    google.colab.kernel.accessAllowed ? 'block' : 'none';\n",
              "}\n",
              "\n",
              "        displayQuickchartButton(document);\n",
              "      </script>\n",
              "      <style>\n",
              "    .colab-df-container {\n",
              "      display:flex;\n",
              "      flex-wrap:wrap;\n",
              "      gap: 12px;\n",
              "    }\n",
              "\n",
              "    .colab-df-convert {\n",
              "      background-color: #E8F0FE;\n",
              "      border: none;\n",
              "      border-radius: 50%;\n",
              "      cursor: pointer;\n",
              "      display: none;\n",
              "      fill: #1967D2;\n",
              "      height: 32px;\n",
              "      padding: 0 0 0 0;\n",
              "      width: 32px;\n",
              "    }\n",
              "\n",
              "    .colab-df-convert:hover {\n",
              "      background-color: #E2EBFA;\n",
              "      box-shadow: 0px 1px 2px rgba(60, 64, 67, 0.3), 0px 1px 3px 1px rgba(60, 64, 67, 0.15);\n",
              "      fill: #174EA6;\n",
              "    }\n",
              "\n",
              "    [theme=dark] .colab-df-convert {\n",
              "      background-color: #3B4455;\n",
              "      fill: #D2E3FC;\n",
              "    }\n",
              "\n",
              "    [theme=dark] .colab-df-convert:hover {\n",
              "      background-color: #434B5C;\n",
              "      box-shadow: 0px 1px 3px 1px rgba(0, 0, 0, 0.15);\n",
              "      filter: drop-shadow(0px 1px 2px rgba(0, 0, 0, 0.3));\n",
              "      fill: #FFFFFF;\n",
              "    }\n",
              "  </style>\n",
              "\n",
              "      <script>\n",
              "        const buttonEl =\n",
              "          document.querySelector('#df-d5b6819c-61a5-4eda-9b95-7699377c9e07 button.colab-df-convert');\n",
              "        buttonEl.style.display =\n",
              "          google.colab.kernel.accessAllowed ? 'block' : 'none';\n",
              "\n",
              "        async function convertToInteractive(key) {\n",
              "          const element = document.querySelector('#df-d5b6819c-61a5-4eda-9b95-7699377c9e07');\n",
              "          const dataTable =\n",
              "            await google.colab.kernel.invokeFunction('convertToInteractive',\n",
              "                                                     [key], {});\n",
              "          if (!dataTable) return;\n",
              "\n",
              "          const docLinkHtml = 'Like what you see? Visit the ' +\n",
              "            '<a target=\"_blank\" href=https://colab.research.google.com/notebooks/data_table.ipynb>data table notebook</a>'\n",
              "            + ' to learn more about interactive tables.';\n",
              "          element.innerHTML = '';\n",
              "          dataTable['output_type'] = 'display_data';\n",
              "          await google.colab.output.renderOutput(dataTable, element);\n",
              "          const docLink = document.createElement('div');\n",
              "          docLink.innerHTML = docLinkHtml;\n",
              "          element.appendChild(docLink);\n",
              "        }\n",
              "      </script>\n",
              "    </div>\n",
              "  </div>\n"
            ]
          },
          "metadata": {},
          "execution_count": 166
        }
      ]
    },
    {
      "cell_type": "markdown",
      "source": [
        "Observa-se que a variável de temperatura está em °F. Para tornar a leitura mais fácil, será aplicada a fórmula para transformação dos valores para °C."
      ],
      "metadata": {
        "id": "ZfHnyDkn3A6u"
      }
    },
    {
      "cell_type": "code",
      "source": [
        "#Transformando a variável 'Temperature' de °F para °C\n",
        "dataset1['Temperature']=((dataset1['Temperature']-32)*5/9).round(1)\n",
        "\n",
        "#adicionando a unidade de medida no nome da coluna\n",
        "dataset1.rename(columns = {'Temperature':'Temperature (°C)'}, inplace = True)\n",
        "\n",
        "#visualizando a coluna 'Temperature (°C)'\n",
        "dataset1.loc[:,'Temperature (°C)']"
      ],
      "metadata": {
        "id": "-uwhGfNDuIjO",
        "colab": {
          "base_uri": "https://localhost:8080/"
        },
        "outputId": "5d474ded-8364-4f55-eec6-953cf727665b"
      },
      "execution_count": null,
      "outputs": [
        {
          "output_type": "execute_result",
          "data": {
            "text/plain": [
              "22       12.8\n",
              "23       26.7\n",
              "24       26.7\n",
              "25       26.7\n",
              "26       26.7\n",
              "         ... \n",
              "12673    12.8\n",
              "12674    12.8\n",
              "12675    -1.1\n",
              "12676    -1.1\n",
              "12677    26.7\n",
              "Name: Temperature (°C), Length: 11965, dtype: float64"
            ]
          },
          "metadata": {},
          "execution_count": 167
        }
      ]
    },
    {
      "cell_type": "markdown",
      "source": [
        "A coluna de horários também está num formato não usual no Brasil. Além disso, transformando os dados de objeto para inteiro, seria possível realizar mais análises numéricas."
      ],
      "metadata": {
        "id": "9CODMknfop1h"
      }
    },
    {
      "cell_type": "code",
      "source": [
        "# mostrando os valores da coluna 'time'\n",
        "dataset1['Time'].value_counts()"
      ],
      "metadata": {
        "id": "y-ceHFGEYYHA",
        "colab": {
          "base_uri": "https://localhost:8080/"
        },
        "outputId": "bd8f7b2d-af19-4665-aebb-21e1850f08b6"
      },
      "execution_count": null,
      "outputs": [
        {
          "output_type": "execute_result",
          "data": {
            "text/plain": [
              "6PM     3049\n",
              "7AM     2997\n",
              "10AM    2132\n",
              "2PM     1894\n",
              "10PM    1893\n",
              "Name: Time, dtype: int64"
            ]
          },
          "metadata": {},
          "execution_count": 168
        }
      ]
    },
    {
      "cell_type": "code",
      "source": [
        "#verificando o tipo de variável dos dados na coluna 'time'\n",
        "print(dataset1['Time'].dtype)"
      ],
      "metadata": {
        "id": "zJ2l8hMHyOtG",
        "colab": {
          "base_uri": "https://localhost:8080/"
        },
        "outputId": "1c261fee-db7c-4460-9c38-f4dab3749d3f"
      },
      "execution_count": null,
      "outputs": [
        {
          "output_type": "stream",
          "name": "stdout",
          "text": [
            "object\n"
          ]
        }
      ]
    },
    {
      "cell_type": "code",
      "source": [
        "#transformando os horários do formato am/pm para 24h\n",
        "dataset1['Time'] = dataset1['Time'].replace(['7AM', '10AM', '2PM', '6PM', '10PM'], ['7', '10', '14', '18', '22'])\n",
        "\n",
        "#transformando os dados em inteiros\n",
        "dataset1['Time'] = dataset1['Time'].astype(int)\n",
        "\n",
        "#adicionando a unidade de medida no nome da coluna\n",
        "dataset1.rename(columns = {'Time':'Time (h)'}, inplace = True)\n",
        "\n",
        "#visualizando a coluna 'time (h)'\n",
        "dataset1.loc[:,'Time (h)']\n"
      ],
      "metadata": {
        "id": "_s_ZeWUPgo7X",
        "colab": {
          "base_uri": "https://localhost:8080/"
        },
        "outputId": "69a63598-7c8e-4362-a5ad-9367d019c06b"
      },
      "execution_count": null,
      "outputs": [
        {
          "output_type": "execute_result",
          "data": {
            "text/plain": [
              "22       14\n",
              "23       10\n",
              "24       10\n",
              "25       10\n",
              "26       14\n",
              "         ..\n",
              "12673    18\n",
              "12674     7\n",
              "12675     7\n",
              "12676     7\n",
              "12677     7\n",
              "Name: Time (h), Length: 11965, dtype: int64"
            ]
          },
          "metadata": {},
          "execution_count": 170
        }
      ]
    },
    {
      "cell_type": "markdown",
      "source": [
        "Feitas as manipulações iniciais dos dados, partiremos para as visualizações gráficas e análises estatísticas, para verificar se mais alguma modificação é necessária, observar o comportamento dos dados e obter insights sobre eles."
      ],
      "metadata": {
        "id": "DmpQH04J-RXJ"
      }
    },
    {
      "cell_type": "markdown",
      "source": [
        "###Análises estatísticas"
      ],
      "metadata": {
        "id": "Q6oBl3pfnCLb"
      }
    },
    {
      "cell_type": "code",
      "source": [
        "# Fazendo um resumo estatístico do dataset (média, desvio padrão, mínimo, máximo e os quartis)\n",
        "dataset1.describe()"
      ],
      "metadata": {
        "id": "_oJnRNDzOPUb",
        "colab": {
          "base_uri": "https://localhost:8080/"
        },
        "outputId": "0b651989-0b23-4516-a75b-fc066c8d7c44"
      },
      "execution_count": null,
      "outputs": [
        {
          "output_type": "execute_result",
          "data": {
            "text/plain": [
              "       Temperature (°C)      Time (h)  Direction_same             Y\n",
              "count      11965.000000  11965.000000    11965.000000  11965.000000\n",
              "mean          17.435270     13.818888        0.216047      0.569411\n",
              "std           10.643983      5.412664        0.411564      0.495179\n",
              "min           -1.100000      7.000000        0.000000      0.000000\n",
              "25%           12.800000      7.000000        0.000000      0.000000\n",
              "50%           26.700000     14.000000        0.000000      1.000000\n",
              "75%           26.700000     18.000000        0.000000      1.000000\n",
              "max           26.700000     22.000000        1.000000      1.000000"
            ],
            "text/html": [
              "\n",
              "\n",
              "  <div id=\"df-c4bbdb82-58e3-44ad-9658-c1a154e02e91\">\n",
              "    <div class=\"colab-df-container\">\n",
              "      <div>\n",
              "<style scoped>\n",
              "    .dataframe tbody tr th:only-of-type {\n",
              "        vertical-align: middle;\n",
              "    }\n",
              "\n",
              "    .dataframe tbody tr th {\n",
              "        vertical-align: top;\n",
              "    }\n",
              "\n",
              "    .dataframe thead th {\n",
              "        text-align: right;\n",
              "    }\n",
              "</style>\n",
              "<table border=\"1\" class=\"dataframe\">\n",
              "  <thead>\n",
              "    <tr style=\"text-align: right;\">\n",
              "      <th></th>\n",
              "      <th>Temperature (°C)</th>\n",
              "      <th>Time (h)</th>\n",
              "      <th>Direction_same</th>\n",
              "      <th>Y</th>\n",
              "    </tr>\n",
              "  </thead>\n",
              "  <tbody>\n",
              "    <tr>\n",
              "      <th>count</th>\n",
              "      <td>11965.000000</td>\n",
              "      <td>11965.000000</td>\n",
              "      <td>11965.000000</td>\n",
              "      <td>11965.000000</td>\n",
              "    </tr>\n",
              "    <tr>\n",
              "      <th>mean</th>\n",
              "      <td>17.435270</td>\n",
              "      <td>13.818888</td>\n",
              "      <td>0.216047</td>\n",
              "      <td>0.569411</td>\n",
              "    </tr>\n",
              "    <tr>\n",
              "      <th>std</th>\n",
              "      <td>10.643983</td>\n",
              "      <td>5.412664</td>\n",
              "      <td>0.411564</td>\n",
              "      <td>0.495179</td>\n",
              "    </tr>\n",
              "    <tr>\n",
              "      <th>min</th>\n",
              "      <td>-1.100000</td>\n",
              "      <td>7.000000</td>\n",
              "      <td>0.000000</td>\n",
              "      <td>0.000000</td>\n",
              "    </tr>\n",
              "    <tr>\n",
              "      <th>25%</th>\n",
              "      <td>12.800000</td>\n",
              "      <td>7.000000</td>\n",
              "      <td>0.000000</td>\n",
              "      <td>0.000000</td>\n",
              "    </tr>\n",
              "    <tr>\n",
              "      <th>50%</th>\n",
              "      <td>26.700000</td>\n",
              "      <td>14.000000</td>\n",
              "      <td>0.000000</td>\n",
              "      <td>1.000000</td>\n",
              "    </tr>\n",
              "    <tr>\n",
              "      <th>75%</th>\n",
              "      <td>26.700000</td>\n",
              "      <td>18.000000</td>\n",
              "      <td>0.000000</td>\n",
              "      <td>1.000000</td>\n",
              "    </tr>\n",
              "    <tr>\n",
              "      <th>max</th>\n",
              "      <td>26.700000</td>\n",
              "      <td>22.000000</td>\n",
              "      <td>1.000000</td>\n",
              "      <td>1.000000</td>\n",
              "    </tr>\n",
              "  </tbody>\n",
              "</table>\n",
              "</div>\n",
              "      <button class=\"colab-df-convert\" onclick=\"convertToInteractive('df-c4bbdb82-58e3-44ad-9658-c1a154e02e91')\"\n",
              "              title=\"Convert this dataframe to an interactive table.\"\n",
              "              style=\"display:none;\">\n",
              "\n",
              "  <svg xmlns=\"http://www.w3.org/2000/svg\" height=\"24px\"viewBox=\"0 0 24 24\"\n",
              "       width=\"24px\">\n",
              "    <path d=\"M0 0h24v24H0V0z\" fill=\"none\"/>\n",
              "    <path d=\"M18.56 5.44l.94 2.06.94-2.06 2.06-.94-2.06-.94-.94-2.06-.94 2.06-2.06.94zm-11 1L8.5 8.5l.94-2.06 2.06-.94-2.06-.94L8.5 2.5l-.94 2.06-2.06.94zm10 10l.94 2.06.94-2.06 2.06-.94-2.06-.94-.94-2.06-.94 2.06-2.06.94z\"/><path d=\"M17.41 7.96l-1.37-1.37c-.4-.4-.92-.59-1.43-.59-.52 0-1.04.2-1.43.59L10.3 9.45l-7.72 7.72c-.78.78-.78 2.05 0 2.83L4 21.41c.39.39.9.59 1.41.59.51 0 1.02-.2 1.41-.59l7.78-7.78 2.81-2.81c.8-.78.8-2.07 0-2.86zM5.41 20L4 18.59l7.72-7.72 1.47 1.35L5.41 20z\"/>\n",
              "  </svg>\n",
              "      </button>\n",
              "\n",
              "\n",
              "\n",
              "    <div id=\"df-d07654e4-4d6f-4a14-9eca-b813d84dd4a5\">\n",
              "      <button class=\"colab-df-quickchart\" onclick=\"quickchart('df-d07654e4-4d6f-4a14-9eca-b813d84dd4a5')\"\n",
              "              title=\"Suggest charts.\"\n",
              "              style=\"display:none;\">\n",
              "\n",
              "<svg xmlns=\"http://www.w3.org/2000/svg\" height=\"24px\"viewBox=\"0 0 24 24\"\n",
              "     width=\"24px\">\n",
              "    <g>\n",
              "        <path d=\"M19 3H5c-1.1 0-2 .9-2 2v14c0 1.1.9 2 2 2h14c1.1 0 2-.9 2-2V5c0-1.1-.9-2-2-2zM9 17H7v-7h2v7zm4 0h-2V7h2v10zm4 0h-2v-4h2v4z\"/>\n",
              "    </g>\n",
              "</svg>\n",
              "      </button>\n",
              "    </div>\n",
              "\n",
              "<style>\n",
              "  .colab-df-quickchart {\n",
              "    background-color: #E8F0FE;\n",
              "    border: none;\n",
              "    border-radius: 50%;\n",
              "    cursor: pointer;\n",
              "    display: none;\n",
              "    fill: #1967D2;\n",
              "    height: 32px;\n",
              "    padding: 0 0 0 0;\n",
              "    width: 32px;\n",
              "  }\n",
              "\n",
              "  .colab-df-quickchart:hover {\n",
              "    background-color: #E2EBFA;\n",
              "    box-shadow: 0px 1px 2px rgba(60, 64, 67, 0.3), 0px 1px 3px 1px rgba(60, 64, 67, 0.15);\n",
              "    fill: #174EA6;\n",
              "  }\n",
              "\n",
              "  [theme=dark] .colab-df-quickchart {\n",
              "    background-color: #3B4455;\n",
              "    fill: #D2E3FC;\n",
              "  }\n",
              "\n",
              "  [theme=dark] .colab-df-quickchart:hover {\n",
              "    background-color: #434B5C;\n",
              "    box-shadow: 0px 1px 3px 1px rgba(0, 0, 0, 0.15);\n",
              "    filter: drop-shadow(0px 1px 2px rgba(0, 0, 0, 0.3));\n",
              "    fill: #FFFFFF;\n",
              "  }\n",
              "</style>\n",
              "\n",
              "    <script>\n",
              "      async function quickchart(key) {\n",
              "        const containerElement = document.querySelector('#' + key);\n",
              "        const charts = await google.colab.kernel.invokeFunction(\n",
              "            'suggestCharts', [key], {});\n",
              "      }\n",
              "    </script>\n",
              "\n",
              "      <script>\n",
              "\n",
              "function displayQuickchartButton(domScope) {\n",
              "  let quickchartButtonEl =\n",
              "    domScope.querySelector('#df-d07654e4-4d6f-4a14-9eca-b813d84dd4a5 button.colab-df-quickchart');\n",
              "  quickchartButtonEl.style.display =\n",
              "    google.colab.kernel.accessAllowed ? 'block' : 'none';\n",
              "}\n",
              "\n",
              "        displayQuickchartButton(document);\n",
              "      </script>\n",
              "      <style>\n",
              "    .colab-df-container {\n",
              "      display:flex;\n",
              "      flex-wrap:wrap;\n",
              "      gap: 12px;\n",
              "    }\n",
              "\n",
              "    .colab-df-convert {\n",
              "      background-color: #E8F0FE;\n",
              "      border: none;\n",
              "      border-radius: 50%;\n",
              "      cursor: pointer;\n",
              "      display: none;\n",
              "      fill: #1967D2;\n",
              "      height: 32px;\n",
              "      padding: 0 0 0 0;\n",
              "      width: 32px;\n",
              "    }\n",
              "\n",
              "    .colab-df-convert:hover {\n",
              "      background-color: #E2EBFA;\n",
              "      box-shadow: 0px 1px 2px rgba(60, 64, 67, 0.3), 0px 1px 3px 1px rgba(60, 64, 67, 0.15);\n",
              "      fill: #174EA6;\n",
              "    }\n",
              "\n",
              "    [theme=dark] .colab-df-convert {\n",
              "      background-color: #3B4455;\n",
              "      fill: #D2E3FC;\n",
              "    }\n",
              "\n",
              "    [theme=dark] .colab-df-convert:hover {\n",
              "      background-color: #434B5C;\n",
              "      box-shadow: 0px 1px 3px 1px rgba(0, 0, 0, 0.15);\n",
              "      filter: drop-shadow(0px 1px 2px rgba(0, 0, 0, 0.3));\n",
              "      fill: #FFFFFF;\n",
              "    }\n",
              "  </style>\n",
              "\n",
              "      <script>\n",
              "        const buttonEl =\n",
              "          document.querySelector('#df-c4bbdb82-58e3-44ad-9658-c1a154e02e91 button.colab-df-convert');\n",
              "        buttonEl.style.display =\n",
              "          google.colab.kernel.accessAllowed ? 'block' : 'none';\n",
              "\n",
              "        async function convertToInteractive(key) {\n",
              "          const element = document.querySelector('#df-c4bbdb82-58e3-44ad-9658-c1a154e02e91');\n",
              "          const dataTable =\n",
              "            await google.colab.kernel.invokeFunction('convertToInteractive',\n",
              "                                                     [key], {});\n",
              "          if (!dataTable) return;\n",
              "\n",
              "          const docLinkHtml = 'Like what you see? Visit the ' +\n",
              "            '<a target=\"_blank\" href=https://colab.research.google.com/notebooks/data_table.ipynb>data table notebook</a>'\n",
              "            + ' to learn more about interactive tables.';\n",
              "          element.innerHTML = '';\n",
              "          dataTable['output_type'] = 'display_data';\n",
              "          await google.colab.output.renderOutput(dataTable, element);\n",
              "          const docLink = document.createElement('div');\n",
              "          docLink.innerHTML = docLinkHtml;\n",
              "          element.appendChild(docLink);\n",
              "        }\n",
              "      </script>\n",
              "    </div>\n",
              "  </div>\n"
            ]
          },
          "metadata": {},
          "execution_count": 171
        }
      ]
    },
    {
      "cell_type": "markdown",
      "source": [
        "A partir do quadro acima, bserva-se que os valores máximos e mínimos das temperaturas(Temperature (°C)) e horário (Time (h)) são coerentes, e as variáveis de direção e resposta (Direction_same e Y) são variáveis booleanas. As médias das variáveis estão dentro do valor esperado, e a contagem é a mesma para todas elas. Ou seja, não há nenhum outlier nem valor faltante."
      ],
      "metadata": {
        "id": "77bh9Jk5zRIu"
      }
    },
    {
      "cell_type": "code",
      "source": [
        "# Verificando a distribuição das classes\n",
        "dataset1.groupby('Y').size()\n"
      ],
      "metadata": {
        "id": "wbSVQj1AOq_6",
        "colab": {
          "base_uri": "https://localhost:8080/"
        },
        "outputId": "8f2e7700-93c5-43b3-ce4f-18e233292016"
      },
      "execution_count": null,
      "outputs": [
        {
          "output_type": "execute_result",
          "data": {
            "text/plain": [
              "Y\n",
              "0    5152\n",
              "1    6813\n",
              "dtype: int64"
            ]
          },
          "metadata": {},
          "execution_count": 172
        }
      ]
    },
    {
      "cell_type": "markdown",
      "source": [
        "Observa-se uma desproporcionalidade entre as classes. Logo, será necessário ajustar as proporções quando o dataset for utilizado para treinamento de máquina e houver a necessidade de dividi-lo em bases de treino e teste."
      ],
      "metadata": {
        "id": "3MeRL_2o1CPB"
      }
    },
    {
      "cell_type": "code",
      "source": [
        "# Verificando a correlação entre os valores numéricos com a matriz de correlação do Seaborn\n",
        "plt.figure(figsize = (6,4))\n",
        "sns.heatmap(dataset1.corr(), annot=True, cmap='RdBu', vmin=-1, vmax=1);"
      ],
      "metadata": {
        "id": "9ROkpdxN83U4",
        "colab": {
          "base_uri": "https://localhost:8080/"
        },
        "outputId": "e76f3b46-f963-44b6-f7df-b257a7439e2a"
      },
      "execution_count": null,
      "outputs": [
        {
          "output_type": "display_data",
          "data": {
            "text/plain": [
              "<Figure size 600x400 with 2 Axes>"
            ],
            "image/png": "[encoded data removed]"
          },
          "metadata": {}
        }
      ]
    },
    {
      "cell_type": "markdown",
      "source": [
        "A matriz apresentada acima mostra tons claros de azul e vermelho para a correlação entre as variáveis, com exceção da diagonal que mostra a correlação da variável com ela mesma. Portanto, percebe-se que não há nenhuma correlação muito forte, nem positiva, nem negativa, entre as variáveis apresentadas."
      ],
      "metadata": {
        "id": "qeybnPmu2LH1"
      }
    },
    {
      "cell_type": "markdown",
      "source": [
        "###Visualização dos dados"
      ],
      "metadata": {
        "id": "g3h30j8l2lsW"
      }
    },
    {
      "cell_type": "code",
      "source": [
        "#plotando gráficos de pizza para analisar as variáveis com até 5 classes\n",
        "colunas = ['Destination', 'Coupon', 'Gender', 'Bar', 'CoffeeHouse', 'CarryAway', 'RestaurantLessThan20',\n",
        "           'Restaurant20To50', 'Direction_same', 'Temperature (°C)', 'Time (h)']\n",
        "valores = [dataset1[coluna].value_counts() for coluna in colunas]\n",
        "plt.figure(figsize=(12,12))\n",
        "\n",
        "\n",
        "for i, valor in enumerate(valores):\n",
        "  plt.subplot(4, 3, i+1)\n",
        "  plt.pie(valor.values, labels=valor.index, autopct = '%1.1f%%')\n",
        "  plt.title(colunas[i])\n",
        "plt.subplots_adjust(wspace=0.5)\n",
        "plt.show()"
      ],
      "metadata": {
        "id": "Fg2K4ddF6RyE",
        "colab": {
          "base_uri": "https://localhost:8080/",
          "height": 983
        },
        "outputId": "3c3b68d1-2b42-4a5d-8ce3-8115e5870ac4"
      },
      "execution_count": null,
      "outputs": [
        {
          "output_type": "display_data",
          "data": {
            "text/plain": [
              "<Figure size 1200x1200 with 11 Axes>"
            ],
            "image/png": "[encoded data removed]"
          },
          "metadata": {}
        }
      ]
    },
    {
      "cell_type": "markdown",
      "source": [
        "A partir da visualização dos dados, observa-se que:\n",
        "\n",
        "-Destination: o destino dos motoristas é majoritariamente para outros lugares que não trabalho ou domicílio.\n",
        "\n",
        "-Coupon: as classes estão bem divididas, com predominância para as cafeterias.\n",
        "\n",
        "-Gender: as classes estão bem divididades entre os gêneros feminino e masculino, com leve maioria no gênero feminino.\n",
        "\n",
        "-Bar, CoffeeHouse, CarryAway: as duas primeiras variáveis apresentam proporções decrescentes  de acordo com o aumento da frequência. Porém, a variável CarryAway apresenta os maiores valores para frequências intermediárias (1-8 vezes por mês), indicando uma preferência para pedidos de comidas para entrega.\n",
        "\n",
        "-RestaurantLessthan20 e Restaurant20to50: para a primeira variável, em que os gastos com restaurantes são menores, há maior adesão para as frequências intermediárias(1-8 vezes por mês), enquanto que para gastos maiores, a maior frequência é de nenhuma vez por mês.\n",
        "\n",
        "-Direction_same: na maior parte das viagens, os locais para uso dos cupons são opostos à direção do(a) motorista, podendo ser um fator determinante na aceitação ou não do cupom.\n",
        "\n",
        "-Temperature (°C) e Time (h): as temperaturas são em geral amenas e os horários equilibrados entre o dia."
      ],
      "metadata": {
        "id": "NsodYAHGJ054"
      }
    },
    {
      "cell_type": "code",
      "source": [
        "#plotando gráficos de barra para analisar as variáveis com mais de 5 classes\n",
        "\n",
        "fig, ax = plt.subplots (nrows = 1, ncols=2, figsize = (8, 4))\n",
        "\n",
        "#criando a primeira subparcela e o primeiro gráfico de barras\n",
        "counts1 = dataset1['Age'].value_counts()\n",
        "ax[0].barh(counts1.index,counts1.values)\n",
        "ax[0].set_title ('Age')\n",
        "ax[0].set_xlabel ('Counts')\n",
        "ax[0].set_ylabel('Values')\n",
        "\n",
        "#criando a segunda subparcela e o segundo gráfico de barras\n",
        "counts2= dataset1['Income'].value_counts()\n",
        "ax[1].barh(counts2.index, counts2.values)\n",
        "ax[1].set_title ('Income')\n",
        "ax[1].set_xlabel ('Counts')\n",
        "ax[1].set_ylabel('Values')\n",
        "\n",
        "#ajustando o espaçamento entre os gráficos\n",
        "plt.subplots_adjust(wspace = 2)\n",
        "\n",
        "#exibindo os gráficos\n",
        "plt.show()\n"
      ],
      "metadata": {
        "id": "7sRCaJrU3iX1",
        "colab": {
          "base_uri": "https://localhost:8080/",
          "height": 410
        },
        "outputId": "66ac9608-2b7f-4ec5-f9d3-aedf51540606"
      },
      "execution_count": null,
      "outputs": [
        {
          "output_type": "display_data",
          "data": {
            "text/plain": [
              "<Figure size 800x400 with 2 Axes>"
            ],
            "image/png": "[encoded data removed]"
          },
          "metadata": {}
        }
      ]
    },
    {
      "cell_type": "markdown",
      "source": [
        "A partir dos gráficos de barras acima, não é possível identificar uma tendência para idades (age) ou rendas (income) maiores ou menores. O que se pode notar são valores bastante heterogêneos e uma amostra bastante diversificada nesses quesitos."
      ],
      "metadata": {
        "id": "KxnwU45tph1t"
      }
    },
    {
      "cell_type": "markdown",
      "source": [
        "##Preparação dos dados"
      ],
      "metadata": {
        "id": "e75ANvG5yjjB"
      }
    },
    {
      "cell_type": "markdown",
      "source": [
        "Com o objetivo de ter uma escala comum para os valores, os dados serão transformados a partir da técnica de normalização (para dados numéricos) e one-hot-enconding (para dados categóricos). Dessa maneira, é possível utilizar os dados em processos de aprendizagem de máquina sem distorcer as diferenças nos intervalos de valores.\n",
        "Além disso, o dataset será dividido em treino, com 80% dos dados, e teste, com 20% dos dados totais."
      ],
      "metadata": {
        "id": "d-c92YqJr_sm"
      }
    },
    {
      "cell_type": "code",
      "source": [
        "#reordenando as colunas pelo tipo de variável\n",
        "cols = ['Destination', 'Coupon', 'Gender', 'Age', 'Income', 'Bar', 'CoffeeHouse',\n",
        " 'CarryAway', 'RestaurantLessThan20', 'Restaurant20To50', 'Temperature (°C)', 'Time (h)',\n",
        " 'Direction_same', 'Y']\n",
        "dataset1 = dataset1[cols]\n",
        "dataset1.head()"
      ],
      "metadata": {
        "colab": {
          "base_uri": "https://localhost:8080/",
          "height": 461
        },
        "id": "QHvqHtxt0n6D",
        "outputId": "03081a03-e62d-4874-d7d6-12c97b39a6ac"
      },
      "execution_count": null,
      "outputs": [
        {
          "output_type": "execute_result",
          "data": {
            "text/plain": [
              "        Destination                 Coupon Gender Age           Income Bar  \\\n",
              "22  No Urgent Place        Restaurant(<20)   Male  21  $62500 - $74999   0   \n",
              "23  No Urgent Place           Coffee House   Male  21  $62500 - $74999   0   \n",
              "24  No Urgent Place                    Bar   Male  21  $62500 - $74999   0   \n",
              "25  No Urgent Place  Carry out & Take away   Male  21  $62500 - $74999   0   \n",
              "26  No Urgent Place           Coffee House   Male  21  $62500 - $74999   0   \n",
              "\n",
              "   CoffeeHouse CarryAway RestaurantLessThan20 Restaurant20To50  \\\n",
              "22           0       4-8                  4-8                0   \n",
              "23           0       4-8                  4-8                0   \n",
              "24           0       4-8                  4-8                0   \n",
              "25           0       4-8                  4-8                0   \n",
              "26           0       4-8                  4-8                0   \n",
              "\n",
              "    Temperature (°C)  Time (h)  Direction_same  Y  \n",
              "22              12.8        14               0  1  \n",
              "23              26.7        10               0  0  \n",
              "24              26.7        10               0  1  \n",
              "25              26.7        10               0  0  \n",
              "26              26.7        14               0  0  "
            ],
            "text/html": [
              "\n",
              "\n",
              "  <div id=\"df-394e3d46-3281-4d80-8be8-bd80295a1eaf\">\n",
              "    <div class=\"colab-df-container\">\n",
              "      <div>\n",
              "<style scoped>\n",
              "    .dataframe tbody tr th:only-of-type {\n",
              "        vertical-align: middle;\n",
              "    }\n",
              "\n",
              "    .dataframe tbody tr th {\n",
              "        vertical-align: top;\n",
              "    }\n",
              "\n",
              "    .dataframe thead th {\n",
              "        text-align: right;\n",
              "    }\n",
              "</style>\n",
              "<table border=\"1\" class=\"dataframe\">\n",
              "  <thead>\n",
              "    <tr style=\"text-align: right;\">\n",
              "      <th></th>\n",
              "      <th>Destination</th>\n",
              "      <th>Coupon</th>\n",
              "      <th>Gender</th>\n",
              "      <th>Age</th>\n",
              "      <th>Income</th>\n",
              "      <th>Bar</th>\n",
              "      <th>CoffeeHouse</th>\n",
              "      <th>CarryAway</th>\n",
              "      <th>RestaurantLessThan20</th>\n",
              "      <th>Restaurant20To50</th>\n",
              "      <th>Temperature (°C)</th>\n",
              "      <th>Time (h)</th>\n",
              "      <th>Direction_same</th>\n",
              "      <th>Y</th>\n",
              "    </tr>\n",
              "  </thead>\n",
              "  <tbody>\n",
              "    <tr>\n",
              "      <th>22</th>\n",
              "      <td>No Urgent Place</td>\n",
              "      <td>Restaurant(&lt;20)</td>\n",
              "      <td>Male</td>\n",
              "      <td>21</td>\n",
              "      <td>$62500 - $74999</td>\n",
              "      <td>0</td>\n",
              "      <td>0</td>\n",
              "      <td>4-8</td>\n",
              "      <td>4-8</td>\n",
              "      <td>0</td>\n",
              "      <td>12.8</td>\n",
              "      <td>14</td>\n",
              "      <td>0</td>\n",
              "      <td>1</td>\n",
              "    </tr>\n",
              "    <tr>\n",
              "      <th>23</th>\n",
              "      <td>No Urgent Place</td>\n",
              "      <td>Coffee House</td>\n",
              "      <td>Male</td>\n",
              "      <td>21</td>\n",
              "      <td>$62500 - $74999</td>\n",
              "      <td>0</td>\n",
              "      <td>0</td>\n",
              "      <td>4-8</td>\n",
              "      <td>4-8</td>\n",
              "      <td>0</td>\n",
              "      <td>26.7</td>\n",
              "      <td>10</td>\n",
              "      <td>0</td>\n",
              "      <td>0</td>\n",
              "    </tr>\n",
              "    <tr>\n",
              "      <th>24</th>\n",
              "      <td>No Urgent Place</td>\n",
              "      <td>Bar</td>\n",
              "      <td>Male</td>\n",
              "      <td>21</td>\n",
              "      <td>$62500 - $74999</td>\n",
              "      <td>0</td>\n",
              "      <td>0</td>\n",
              "      <td>4-8</td>\n",
              "      <td>4-8</td>\n",
              "      <td>0</td>\n",
              "      <td>26.7</td>\n",
              "      <td>10</td>\n",
              "      <td>0</td>\n",
              "      <td>1</td>\n",
              "    </tr>\n",
              "    <tr>\n",
              "      <th>25</th>\n",
              "      <td>No Urgent Place</td>\n",
              "      <td>Carry out &amp; Take away</td>\n",
              "      <td>Male</td>\n",
              "      <td>21</td>\n",
              "      <td>$62500 - $74999</td>\n",
              "      <td>0</td>\n",
              "      <td>0</td>\n",
              "      <td>4-8</td>\n",
              "      <td>4-8</td>\n",
              "      <td>0</td>\n",
              "      <td>26.7</td>\n",
              "      <td>10</td>\n",
              "      <td>0</td>\n",
              "      <td>0</td>\n",
              "    </tr>\n",
              "    <tr>\n",
              "      <th>26</th>\n",
              "      <td>No Urgent Place</td>\n",
              "      <td>Coffee House</td>\n",
              "      <td>Male</td>\n",
              "      <td>21</td>\n",
              "      <td>$62500 - $74999</td>\n",
              "      <td>0</td>\n",
              "      <td>0</td>\n",
              "      <td>4-8</td>\n",
              "      <td>4-8</td>\n",
              "      <td>0</td>\n",
              "      <td>26.7</td>\n",
              "      <td>14</td>\n",
              "      <td>0</td>\n",
              "      <td>0</td>\n",
              "    </tr>\n",
              "  </tbody>\n",
              "</table>\n",
              "</div>\n",
              "      <button class=\"colab-df-convert\" onclick=\"convertToInteractive('df-394e3d46-3281-4d80-8be8-bd80295a1eaf')\"\n",
              "              title=\"Convert this dataframe to an interactive table.\"\n",
              "              style=\"display:none;\">\n",
              "\n",
              "  <svg xmlns=\"http://www.w3.org/2000/svg\" height=\"24px\"viewBox=\"0 0 24 24\"\n",
              "       width=\"24px\">\n",
              "    <path d=\"M0 0h24v24H0V0z\" fill=\"none\"/>\n",
              "    <path d=\"M18.56 5.44l.94 2.06.94-2.06 2.06-.94-2.06-.94-.94-2.06-.94 2.06-2.06.94zm-11 1L8.5 8.5l.94-2.06 2.06-.94-2.06-.94L8.5 2.5l-.94 2.06-2.06.94zm10 10l.94 2.06.94-2.06 2.06-.94-2.06-.94-.94-2.06-.94 2.06-2.06.94z\"/><path d=\"M17.41 7.96l-1.37-1.37c-.4-.4-.92-.59-1.43-.59-.52 0-1.04.2-1.43.59L10.3 9.45l-7.72 7.72c-.78.78-.78 2.05 0 2.83L4 21.41c.39.39.9.59 1.41.59.51 0 1.02-.2 1.41-.59l7.78-7.78 2.81-2.81c.8-.78.8-2.07 0-2.86zM5.41 20L4 18.59l7.72-7.72 1.47 1.35L5.41 20z\"/>\n",
              "  </svg>\n",
              "      </button>\n",
              "\n",
              "\n",
              "\n",
              "    <div id=\"df-4089456d-5150-4006-9f91-5d467f73e460\">\n",
              "      <button class=\"colab-df-quickchart\" onclick=\"quickchart('df-4089456d-5150-4006-9f91-5d467f73e460')\"\n",
              "              title=\"Suggest charts.\"\n",
              "              style=\"display:none;\">\n",
              "\n",
              "<svg xmlns=\"http://www.w3.org/2000/svg\" height=\"24px\"viewBox=\"0 0 24 24\"\n",
              "     width=\"24px\">\n",
              "    <g>\n",
              "        <path d=\"M19 3H5c-1.1 0-2 .9-2 2v14c0 1.1.9 2 2 2h14c1.1 0 2-.9 2-2V5c0-1.1-.9-2-2-2zM9 17H7v-7h2v7zm4 0h-2V7h2v10zm4 0h-2v-4h2v4z\"/>\n",
              "    </g>\n",
              "</svg>\n",
              "      </button>\n",
              "    </div>\n",
              "\n",
              "<style>\n",
              "  .colab-df-quickchart {\n",
              "    background-color: #E8F0FE;\n",
              "    border: none;\n",
              "    border-radius: 50%;\n",
              "    cursor: pointer;\n",
              "    display: none;\n",
              "    fill: #1967D2;\n",
              "    height: 32px;\n",
              "    padding: 0 0 0 0;\n",
              "    width: 32px;\n",
              "  }\n",
              "\n",
              "  .colab-df-quickchart:hover {\n",
              "    background-color: #E2EBFA;\n",
              "    box-shadow: 0px 1px 2px rgba(60, 64, 67, 0.3), 0px 1px 3px 1px rgba(60, 64, 67, 0.15);\n",
              "    fill: #174EA6;\n",
              "  }\n",
              "\n",
              "  [theme=dark] .colab-df-quickchart {\n",
              "    background-color: #3B4455;\n",
              "    fill: #D2E3FC;\n",
              "  }\n",
              "\n",
              "  [theme=dark] .colab-df-quickchart:hover {\n",
              "    background-color: #434B5C;\n",
              "    box-shadow: 0px 1px 3px 1px rgba(0, 0, 0, 0.15);\n",
              "    filter: drop-shadow(0px 1px 2px rgba(0, 0, 0, 0.3));\n",
              "    fill: #FFFFFF;\n",
              "  }\n",
              "</style>\n",
              "\n",
              "    <script>\n",
              "      async function quickchart(key) {\n",
              "        const containerElement = document.querySelector('#' + key);\n",
              "        const charts = await google.colab.kernel.invokeFunction(\n",
              "            'suggestCharts', [key], {});\n",
              "      }\n",
              "    </script>\n",
              "\n",
              "      <script>\n",
              "\n",
              "function displayQuickchartButton(domScope) {\n",
              "  let quickchartButtonEl =\n",
              "    domScope.querySelector('#df-4089456d-5150-4006-9f91-5d467f73e460 button.colab-df-quickchart');\n",
              "  quickchartButtonEl.style.display =\n",
              "    google.colab.kernel.accessAllowed ? 'block' : 'none';\n",
              "}\n",
              "\n",
              "        displayQuickchartButton(document);\n",
              "      </script>\n",
              "      <style>\n",
              "    .colab-df-container {\n",
              "      display:flex;\n",
              "      flex-wrap:wrap;\n",
              "      gap: 12px;\n",
              "    }\n",
              "\n",
              "    .colab-df-convert {\n",
              "      background-color: #E8F0FE;\n",
              "      border: none;\n",
              "      border-radius: 50%;\n",
              "      cursor: pointer;\n",
              "      display: none;\n",
              "      fill: #1967D2;\n",
              "      height: 32px;\n",
              "      padding: 0 0 0 0;\n",
              "      width: 32px;\n",
              "    }\n",
              "\n",
              "    .colab-df-convert:hover {\n",
              "      background-color: #E2EBFA;\n",
              "      box-shadow: 0px 1px 2px rgba(60, 64, 67, 0.3), 0px 1px 3px 1px rgba(60, 64, 67, 0.15);\n",
              "      fill: #174EA6;\n",
              "    }\n",
              "\n",
              "    [theme=dark] .colab-df-convert {\n",
              "      background-color: #3B4455;\n",
              "      fill: #D2E3FC;\n",
              "    }\n",
              "\n",
              "    [theme=dark] .colab-df-convert:hover {\n",
              "      background-color: #434B5C;\n",
              "      box-shadow: 0px 1px 3px 1px rgba(0, 0, 0, 0.15);\n",
              "      filter: drop-shadow(0px 1px 2px rgba(0, 0, 0, 0.3));\n",
              "      fill: #FFFFFF;\n",
              "    }\n",
              "  </style>\n",
              "\n",
              "      <script>\n",
              "        const buttonEl =\n",
              "          document.querySelector('#df-394e3d46-3281-4d80-8be8-bd80295a1eaf button.colab-df-convert');\n",
              "        buttonEl.style.display =\n",
              "          google.colab.kernel.accessAllowed ? 'block' : 'none';\n",
              "\n",
              "        async function convertToInteractive(key) {\n",
              "          const element = document.querySelector('#df-394e3d46-3281-4d80-8be8-bd80295a1eaf');\n",
              "          const dataTable =\n",
              "            await google.colab.kernel.invokeFunction('convertToInteractive',\n",
              "                                                     [key], {});\n",
              "          if (!dataTable) return;\n",
              "\n",
              "          const docLinkHtml = 'Like what you see? Visit the ' +\n",
              "            '<a target=\"_blank\" href=https://colab.research.google.com/notebooks/data_table.ipynb>data table notebook</a>'\n",
              "            + ' to learn more about interactive tables.';\n",
              "          element.innerHTML = '';\n",
              "          dataTable['output_type'] = 'display_data';\n",
              "          await google.colab.output.renderOutput(dataTable, element);\n",
              "          const docLink = document.createElement('div');\n",
              "          docLink.innerHTML = docLinkHtml;\n",
              "          element.appendChild(docLink);\n",
              "        }\n",
              "      </script>\n",
              "    </div>\n",
              "  </div>\n"
            ]
          },
          "metadata": {},
          "execution_count": 176
        }
      ]
    },
    {
      "cell_type": "code",
      "source": [
        "test_size = 0.20  # tamanho do conjunto de teste\n",
        "seed = 7  # semente aleatória\n",
        "\n",
        "# Separar variáveis categóricas e numéricas\n",
        "categorical_features = dataset1.values[:, 0:10]\n",
        "numeric_features = dataset1.values[:, 10:13]\n",
        "y = dataset1.values[:, 13]\n",
        "\n",
        "# Divisão em conjuntos de treino e teste\n",
        "X_train_cat, X_test_cat, X_train_num, X_test_num, y_train, y_test = train_test_split(categorical_features,\n",
        "                                                                                    numeric_features,\n",
        "                                                                                    y,\n",
        "                                                                                    test_size=test_size,\n",
        "                                                                                    random_state=seed,\n",
        "                                                                                    stratify=y)"
      ],
      "metadata": {
        "id": "DVyveIgrzZ4X"
      },
      "execution_count": null,
      "outputs": []
    },
    {
      "cell_type": "markdown",
      "source": [
        "###One-hot encoding"
      ],
      "metadata": {
        "id": "fC-g95o3taVo"
      }
    },
    {
      "cell_type": "code",
      "source": [
        "# Codificação one-hot para variáveis categóricas no conjunto de treinamento\n",
        "encoder = OneHotEncoder(sparse=False)\n",
        "X_train_cat_encoded = encoder.fit_transform(X_train_cat)\n",
        "\n",
        "# Codificação one-hot para variáveis categóricas no conjunto de teste\n",
        "X_test_cat_encoded = encoder.transform(X_test_cat)\n",
        "\n",
        "# exibindo alguns dados transformados\n",
        "print(\"Atributos transformados:\")\n",
        "print(X_train_cat_encoded[:5, :]) # 5 primeiras linhas, todas as colunas"
      ],
      "metadata": {
        "colab": {
          "base_uri": "https://localhost:8080/"
        },
        "id": "SuB63VmP4UX8",
        "outputId": "3a525a2e-03d3-40a8-9224-1ef2dd2d0db9"
      },
      "execution_count": null,
      "outputs": [
        {
          "output_type": "stream",
          "name": "stdout",
          "text": [
            "Atributos transformados:\n",
            "[[0. 1. 0. 0. 0. 0. 0. 1. 0. 1. 1. 0. 0. 0. 0. 0. 0. 0. 0. 0. 1. 0. 0. 0.\n",
            "  0. 0. 0. 1. 0. 0. 0. 1. 0. 0. 0. 0. 1. 0. 0. 0. 1. 0. 0. 1. 0. 0. 0.]\n",
            " [0. 1. 0. 0. 0. 1. 0. 0. 0. 1. 0. 1. 0. 0. 0. 0. 0. 0. 0. 0. 0. 0. 0. 1.\n",
            "  0. 0. 0. 1. 0. 0. 0. 1. 0. 0. 0. 1. 0. 0. 0. 0. 0. 0. 1. 0. 1. 0. 0.]\n",
            " [0. 1. 0. 0. 0. 0. 1. 0. 0. 1. 1. 0. 0. 0. 0. 0. 0. 0. 0. 0. 0. 0. 0. 1.\n",
            "  0. 0. 0. 1. 0. 0. 0. 1. 0. 0. 0. 0. 0. 1. 0. 0. 1. 0. 0. 0. 1. 0. 0.]\n",
            " [1. 0. 0. 0. 1. 0. 0. 0. 1. 0. 0. 0. 0. 0. 1. 0. 0. 0. 0. 0. 0. 0. 0. 1.\n",
            "  0. 0. 0. 1. 0. 0. 0. 1. 0. 0. 0. 1. 0. 0. 0. 1. 0. 0. 0. 1. 0. 0. 0.]\n",
            " [0. 0. 1. 0. 1. 0. 0. 0. 1. 0. 0. 1. 0. 0. 0. 0. 0. 0. 0. 0. 0. 1. 0. 0.\n",
            "  0. 0. 0. 1. 0. 0. 0. 0. 1. 0. 0. 0. 1. 0. 0. 0. 1. 0. 0. 1. 0. 0. 0.]]\n"
          ]
        }
      ]
    },
    {
      "cell_type": "markdown",
      "source": [
        "###Normalização"
      ],
      "metadata": {
        "id": "KI6qU3Z-tmVm"
      }
    },
    {
      "cell_type": "code",
      "source": [
        "# Normalização para variáveis numéricas no conjunto de treinamento\n",
        "scaler = StandardScaler()\n",
        "X_train_num_normalized = scaler.fit_transform(X_train_num)\n",
        "\n",
        "# Normalização para variáveis numéricas no conjunto de teste\n",
        "X_test_num_normalized = scaler.transform(X_test_num)\n",
        "\n",
        "# Exibindo os dados transformados\n",
        "print(\"Dados Originais: \\n\\n\", X_train_num)\n",
        "print(\"\\nDados Normalizados: \\n\\n\", X_train_num_normalized)\n",
        "\n"
      ],
      "metadata": {
        "colab": {
          "base_uri": "https://localhost:8080/"
        },
        "id": "ug7ruYuh44V6",
        "outputId": "4c38ce22-b390-44a7-ef7e-f88fe1a56b74"
      },
      "execution_count": null,
      "outputs": [
        {
          "output_type": "stream",
          "name": "stdout",
          "text": [
            "Dados Originais: \n",
            "\n",
            " [[26.7 18 0]\n",
            " [26.7 14 0]\n",
            " [26.7 14 0]\n",
            " ...\n",
            " [12.8 7 0]\n",
            " [26.7 18 0]\n",
            " [26.7 7 0]]\n",
            "\n",
            "Dados Normalizados: \n",
            "\n",
            " [[ 0.87594286  0.76615308 -0.52949394]\n",
            " [ 0.87594286  0.03087964 -0.52949394]\n",
            " [ 0.87594286  0.03087964 -0.52949394]\n",
            " ...\n",
            " [-0.42985453 -1.25584888 -0.52949394]\n",
            " [ 0.87594286  0.76615308 -0.52949394]\n",
            " [ 0.87594286 -1.25584888 -0.52949394]]\n"
          ]
        }
      ]
    },
    {
      "cell_type": "code",
      "source": [
        "# Combinar variáveis categóricas e numéricas para conjuntos de treinamento e teste\n",
        "X_train = np.concatenate((X_train_cat_encoded, X_train_num_normalized), axis=1)\n",
        "X_test = np.concatenate((X_test_cat_encoded, X_test_num_normalized), axis=1)\n",
        "\n",
        "# Parâmetros e partições da validação cruzada\n",
        "scoring = 'accuracy'\n",
        "num_particoes = 10\n",
        "kfold = StratifiedKFold(n_splits=num_particoes, shuffle=True, random_state=seed) # validação cruzada com estratificação"
      ],
      "metadata": {
        "id": "F8wvTXOLI3Vn"
      },
      "execution_count": null,
      "outputs": []
    },
    {
      "cell_type": "markdown",
      "source": [
        "###Transformação para classe binária"
      ],
      "metadata": {
        "id": "X9Zi7b3-vgja"
      }
    },
    {
      "cell_type": "code",
      "source": [
        "# Criar uma instância do LabelEncoder\n",
        "label_encoder = LabelEncoder()\n",
        "\n",
        "# Aplicar a codificação de rótulo aos rótulos binários\n",
        "y_train = label_encoder.fit_transform(y_train)\n",
        "y_test = label_encoder.fit_transform(y_test)"
      ],
      "metadata": {
        "id": "v417geeyvfpR"
      },
      "execution_count": null,
      "outputs": []
    },
    {
      "cell_type": "markdown",
      "source": [
        "##Modelagem e inferência"
      ],
      "metadata": {
        "id": "oVBKrWNN-gWV"
      }
    },
    {
      "cell_type": "markdown",
      "source": [
        "Primeiramente testaremos diferentes algoritmos para aprendizado de máquina para observar a performance deles. Utilizaremos validação cruzada a fim de melhor estimar o desempenho dos modelos. (4min)"
      ],
      "metadata": {
        "id": "7TixRwbTydXL"
      }
    },
    {
      "cell_type": "code",
      "source": [
        "np.random.seed(7) # definindo uma semente global\n",
        "\n",
        "# Lista que armazenará os modelos\n",
        "models = []\n",
        "\n",
        "# Criando os modelos e adicionando-os na lista de modelos\n",
        "models.append(('LR', LogisticRegression(max_iter=200)))\n",
        "models.append(('KNN', KNeighborsClassifier()))\n",
        "models.append(('CART', DecisionTreeClassifier()))\n",
        "models.append(('NB', GaussianNB()))\n",
        "models.append(('SVM', SVC()))\n",
        "\n",
        "# Definindo os parâmetros do classificador base para o BaggingClassifier\n",
        "base = DecisionTreeClassifier()\n",
        "num_trees = 100\n",
        "max_features = 3\n",
        "\n",
        "# Criando os modelos para o VotingClassifier\n",
        "bases = []\n",
        "model1 = LogisticRegression(max_iter=200)\n",
        "bases.append(('logistic', model1))\n",
        "model2 = DecisionTreeClassifier()\n",
        "bases.append(('cart', model2))\n",
        "model3 = SVC()\n",
        "bases.append(('svm', model3))\n",
        "\n",
        "# Criando os ensembles e adicionando-os na lista de modelos\n",
        "models.append(('Bagging', BaggingClassifier(base_estimator=base, n_estimators=num_trees)))\n",
        "models.append(('RF', RandomForestClassifier(n_estimators=num_trees, max_features=max_features)))\n",
        "models.append(('ET', ExtraTreesClassifier(n_estimators=num_trees, max_features=max_features)))\n",
        "models.append(('Ada', AdaBoostClassifier(n_estimators=num_trees)))\n",
        "models.append(('GB', GradientBoostingClassifier(n_estimators=num_trees)))\n",
        "models.append(('Voting', VotingClassifier(bases)))\n",
        "\n",
        "# Listas para armazenar os resultados\n",
        "results = []\n",
        "names = []\n",
        "\n",
        "# Avaliação dos modelos\n",
        "for name, model in models:\n",
        "    cv_results = cross_val_score(model, X_train, y_train, cv=kfold, scoring=scoring)\n",
        "    results.append(cv_results)\n",
        "    names.append(name)\n",
        "    msg = \"%s: %f (%f)\" % (name, cv_results.mean(), cv_results.std())\n",
        "    print(msg)\n",
        "\n",
        "# Boxplot de comparação dos modelos\n",
        "fig = plt.figure(figsize=(15,10))\n",
        "fig.suptitle('Comparação dos Modelos')\n",
        "ax = fig.add_subplot(111)\n",
        "plt.boxplot(results)\n",
        "ax.set_xticklabels(names)\n",
        "plt.show()"
      ],
      "metadata": {
        "colab": {
          "base_uri": "https://localhost:8080/",
          "height": 1000
        },
        "id": "EUejbdLV-irG",
        "outputId": "85a8c7c9-914b-41cc-c059-18778c21f75b"
      },
      "execution_count": null,
      "outputs": [
        {
          "output_type": "stream",
          "name": "stdout",
          "text": [
            "LR: 0.663919 (0.017282)\n",
            "KNN: 0.654094 (0.014623)\n",
            "CART: 0.656705 (0.015808)\n",
            "NB: 0.642295 (0.016512)\n",
            "SVM: 0.712288 (0.017269)\n",
            "Bagging: 0.721897 (0.015648)\n",
            "RF: 0.733495 (0.013180)\n",
            "ET: 0.729106 (0.012871)\n",
            "Ada: 0.663607 (0.018595)\n",
            "GB: 0.700798 (0.015751)\n",
            "Voting: 0.708424 (0.015476)\n"
          ]
        },
        {
          "output_type": "display_data",
          "data": {
            "text/plain": [
              "<Figure size 1500x1000 with 1 Axes>"
            ],
            "image/png": "[encoded data removed]"
          },
          "metadata": {}
        }
      ]
    },
    {
      "cell_type": "markdown",
      "source": [
        "Agora faremos a utilização da biblioteca Grid Search para encontrar novos resultados, modificando os hiperparâmetros dos algoritmos que obtiveram os melhores desempenhos, ou seja, bagging, random forest - RF e extra trees - ET."
      ],
      "metadata": {
        "id": "UzbndzhczL8o"
      }
    },
    {
      "cell_type": "markdown",
      "source": [
        "###Grid Search para bagging"
      ],
      "metadata": {
        "id": "PisowG99AKdA"
      }
    },
    {
      "cell_type": "code",
      "source": [
        "# Tuning do bagging\n",
        "\n",
        "np.random.seed(7) # definindo uma semente global para este bloco\n",
        "\n",
        "pipelines = []\n",
        "\n",
        "# Definindo os componentes do pipeline\n",
        "bagging = ('Bagging', BaggingClassifier(base_estimator=base, n_estimators=num_trees))\n",
        "\n",
        "pipelines.append(('Bagging', Pipeline(steps=[bagging])))\n",
        "\n",
        "param_grid = {\n",
        "    'Bagging__n_estimators': [3, 6, 9, 12, 15, 18, 21, 27],\n",
        "    'Bagging__max_samples': [0.7,0.8,0.9],\n",
        "}\n",
        "\n",
        "# Prepara e executa o GridSearchCV\n",
        "for name, model in pipelines:\n",
        "    grid = GridSearchCV(estimator=model, param_grid=param_grid, scoring=scoring, cv=kfold)\n",
        "    grid.fit(X_train, y_train)\n",
        "    # imprime a melhor configuração\n",
        "    print(\"%s - Melhor: %f usando %s\" % (name, grid.best_score_, grid.best_params_))"
      ],
      "metadata": {
        "colab": {
          "base_uri": "https://localhost:8080/"
        },
        "id": "7khf2OSyz3Ty",
        "outputId": "7e678cbc-03e5-416a-b694-7a4bc727284c"
      },
      "execution_count": null,
      "outputs": [
        {
          "output_type": "stream",
          "name": "stdout",
          "text": [
            "Bagging - Melhor: 0.721794 usando {'Bagging__max_samples': 0.7, 'Bagging__n_estimators': 27}\n"
          ]
        }
      ]
    },
    {
      "cell_type": "markdown",
      "source": [
        "###Grid Search para Random Forest"
      ],
      "metadata": {
        "id": "99XyQ-tqAFYK"
      }
    },
    {
      "cell_type": "code",
      "source": [
        "np.random.seed(7)  # Definindo uma semente global para este bloco\n",
        "\n",
        "pipelines = []\n",
        "\n",
        "# Definindo os componentes do pipeline\n",
        "random_forest = ('Random Forest', RandomForestClassifier(n_estimators=num_trees, max_features=max_features))\n",
        "\n",
        "pipelines.append(('RF', Pipeline(steps=[random_forest])))\n",
        "\n",
        "param_grid = {\n",
        "    'Random Forest__n_estimators': [10, 50, 100, 200],\n",
        "    'Random Forest__max_depth': [None, 5, 10, 20],\n",
        "    'Random Forest__min_samples_split': [2, 5, 10],\n",
        "}\n",
        "\n",
        "# Prepara e executa o GridSearchCV\n",
        "for name, model in pipelines:\n",
        "    grid = GridSearchCV(estimator=model, param_grid=param_grid, scoring=scoring, cv=kfold)\n",
        "    grid.fit(X_train, y_train)\n",
        "    # Imprime a melhor configuração\n",
        "    print(\"%s - Melhor: %f usando %s\" % (name, grid.best_score_, grid.best_params_))"
      ],
      "metadata": {
        "colab": {
          "base_uri": "https://localhost:8080/"
        },
        "id": "eInXOl9Q9La_",
        "outputId": "847a3f42-7658-4414-97d0-e46dc72424b0"
      },
      "execution_count": null,
      "outputs": [
        {
          "output_type": "stream",
          "name": "stdout",
          "text": [
            "RF - Melhor: 0.746555 usando {'Random Forest__max_depth': None, 'Random Forest__min_samples_split': 5, 'Random Forest__n_estimators': 200}\n"
          ]
        }
      ]
    },
    {
      "cell_type": "markdown",
      "source": [
        "###Grid Search para Extra Trees"
      ],
      "metadata": {
        "id": "--3f88AeARJr"
      }
    },
    {
      "cell_type": "code",
      "source": [
        "np.random.seed(7)  # Definindo uma semente global para este bloco\n",
        "\n",
        "pipelines = []\n",
        "\n",
        "# Definindo os componentes do pipeline\n",
        "extra_trees = ('Extra Trees', ExtraTreesClassifier(n_estimators=num_trees, max_features=max_features))\n",
        "\n",
        "pipelines.append(('ET', Pipeline(steps=[extra_trees])))\n",
        "\n",
        "param_grid = {\n",
        "    'Extra Trees__n_estimators': [10, 50, 100, 200],\n",
        "    'Extra Trees__max_depth': [None, 5, 10, 20],\n",
        "    'Extra Trees__min_samples_split': [2, 5, 10],\n",
        "}\n",
        "# Prepara e executa o GridSearchCV\n",
        "for name, model in pipelines:\n",
        "    grid = GridSearchCV(estimator=model, param_grid=param_grid, scoring=scoring, cv=kfold)\n",
        "    grid.fit(X_train, y_train)\n",
        "    # Imprime a melhor configuração\n",
        "    print(\"%s - Melhor: %f usando %s\" % (name, grid.best_score_, grid.best_params_))"
      ],
      "metadata": {
        "colab": {
          "base_uri": "https://localhost:8080/"
        },
        "id": "ajUB9OjnAT1s",
        "outputId": "70603afb-dc48-4a04-c027-ba131702ea21"
      },
      "execution_count": null,
      "outputs": [
        {
          "output_type": "stream",
          "name": "stdout",
          "text": [
            "ET - Melhor: 0.744675 usando {'Extra Trees__max_depth': 20, 'Extra Trees__min_samples_split': 5, 'Extra Trees__n_estimators': 200}\n"
          ]
        }
      ]
    },
    {
      "cell_type": "markdown",
      "source": [
        "##Finalização do modelo"
      ],
      "metadata": {
        "id": "BvI7iNRBCWcS"
      }
    },
    {
      "cell_type": "markdown",
      "source": [
        "O modelo que alcançou melhores resultados foi o Extra Trees, com 74,5% de acertos. Portando, finalizaremos o modelo treinado com todo o conjunto de treinamento  - sem validação cruzada - para confirmar os resultados. Após o treinamento, calcularemos a acurácia."
      ],
      "metadata": {
        "id": "wZpc763CSOkx"
      }
    },
    {
      "cell_type": "code",
      "source": [
        "# Selecionar o modelo Extra Trees com os melhores parâmetros\n",
        "model = ExtraTreesClassifier(n_estimators=100, max_depth=None, min_samples_split=5)\n",
        "\n",
        "# Treinar o modelo com os dados de treinamento\n",
        "model.fit(X_train, y_train)\n",
        "\n",
        "# Fazer previsões com os dados de teste\n",
        "predictions = model.predict(X_test)\n",
        "\n",
        "# Imprimir as previsões\n",
        "accuracy = accuracy_score(y_test, predictions)\n",
        "print(\"Previsões do modelo Extra Trees nos dados de teste: \",accuracy_score(y_test, predictions))"
      ],
      "metadata": {
        "colab": {
          "base_uri": "https://localhost:8080/"
        },
        "id": "47enbquUSxkW",
        "outputId": "b5b58961-4a59-437f-b076-d9d551e3b4d8"
      },
      "execution_count": null,
      "outputs": [
        {
          "output_type": "stream",
          "name": "stdout",
          "text": [
            "Previsões do modelo Extra Trees nos dados de teste:  0.7170915169243627\n"
          ]
        }
      ]
    },
    {
      "cell_type": "markdown",
      "source": [
        "Observa-se que o resultado com todo o dataset de treino foi similar ao anterior com validação cruzada, com 71,7 % de acertos. Esse resultado, apesar de não ser o ideial, ainda contribui para a previsão de novas entradas.\n",
        "É importante ressaltar, no entanto, que outros métodos devem ser utilizados para contribuir com a decisão dos anúncios em multimídia, como por exemplo, pesquisas de mercado.\n",
        "A seguir, o modelo será treinado com todo o dataset, incluindo o que antes era separado como dataset de teste para prepará-lo para produção."
      ],
      "metadata": {
        "id": "2uFXV_2vaEyq"
      }
    },
    {
      "cell_type": "code",
      "source": [
        "# Separar variáveis categóricas e numéricas\n",
        "categorical_features = dataset1.values[:, 0:9]\n",
        "numeric_features = dataset1.values[:, 10:13]\n",
        "y = dataset1.values[:, 13]\n",
        "# Codificação one-hot para variáveis categóricas\n",
        "encoder = OneHotEncoder(sparse=False)\n",
        "X_cat_encoded = encoder.fit_transform(categorical_features)\n",
        "# Normalização para variáveis numéricas\n",
        "scaler = StandardScaler()\n",
        "X_num_normalized = scaler.fit_transform(numeric_features)\n",
        "# Aplicar a codificação de rótulo aos rótulos binários\n",
        "y = label_encoder.fit_transform(y)\n",
        "# Combinar variáveis categóricas e numéricas\n",
        "X = np.concatenate((X_cat_encoded, X_num_normalized), axis=1)\n",
        "\n",
        "model.fit(X, y)"
      ],
      "metadata": {
        "colab": {
          "base_uri": "https://localhost:8080/",
          "height": 74
        },
        "id": "ND1V-cs2bfol",
        "outputId": "5b8c2170-5818-4fb3-d709-f118df63d426"
      },
      "execution_count": null,
      "outputs": [
        {
          "output_type": "execute_result",
          "data": {
            "text/plain": [
              "ExtraTreesClassifier(min_samples_split=5)"
            ],
            "text/html": [
              "<style>#sk-container-id-2 {color: black;background-color: white;}#sk-container-id-2 pre{padding: 0;}#sk-container-id-2 div.sk-toggleable {background-color: white;}#sk-container-id-2 label.sk-toggleable__label {cursor: pointer;display: block;width: 100%;margin-bottom: 0;padding: 0.3em;box-sizing: border-box;text-align: center;}#sk-container-id-2 label.sk-toggleable__label-arrow:before {content: \"▸\";float: left;margin-right: 0.25em;color: #696969;}#sk-container-id-2 label.sk-toggleable__label-arrow:hover:before {color: black;}#sk-container-id-2 div.sk-estimator:hover label.sk-toggleable__label-arrow:before {color: black;}#sk-container-id-2 div.sk-toggleable__content {max-height: 0;max-width: 0;overflow: hidden;text-align: left;background-color: #f0f8ff;}#sk-container-id-2 div.sk-toggleable__content pre {margin: 0.2em;color: black;border-radius: 0.25em;background-color: #f0f8ff;}#sk-container-id-2 input.sk-toggleable__control:checked~div.sk-toggleable__content {max-height: 200px;max-width: 100%;overflow: auto;}#sk-container-id-2 input.sk-toggleable__control:checked~label.sk-toggleable__label-arrow:before {content: \"▾\";}#sk-container-id-2 div.sk-estimator input.sk-toggleable__control:checked~label.sk-toggleable__label {background-color: #d4ebff;}#sk-container-id-2 div.sk-label input.sk-toggleable__control:checked~label.sk-toggleable__label {background-color: #d4ebff;}#sk-container-id-2 input.sk-hidden--visually {border: 0;clip: rect(1px 1px 1px 1px);clip: rect(1px, 1px, 1px, 1px);height: 1px;margin: -1px;overflow: hidden;padding: 0;position: absolute;width: 1px;}#sk-container-id-2 div.sk-estimator {font-family: monospace;background-color: #f0f8ff;border: 1px dotted black;border-radius: 0.25em;box-sizing: border-box;margin-bottom: 0.5em;}#sk-container-id-2 div.sk-estimator:hover {background-color: #d4ebff;}#sk-container-id-2 div.sk-parallel-item::after {content: \"\";width: 100%;border-bottom: 1px solid gray;flex-grow: 1;}#sk-container-id-2 div.sk-label:hover label.sk-toggleable__label {background-color: #d4ebff;}#sk-container-id-2 div.sk-serial::before {content: \"\";position: absolute;border-left: 1px solid gray;box-sizing: border-box;top: 0;bottom: 0;left: 50%;z-index: 0;}#sk-container-id-2 div.sk-serial {display: flex;flex-direction: column;align-items: center;background-color: white;padding-right: 0.2em;padding-left: 0.2em;position: relative;}#sk-container-id-2 div.sk-item {position: relative;z-index: 1;}#sk-container-id-2 div.sk-parallel {display: flex;align-items: stretch;justify-content: center;background-color: white;position: relative;}#sk-container-id-2 div.sk-item::before, #sk-container-id-2 div.sk-parallel-item::before {content: \"\";position: absolute;border-left: 1px solid gray;box-sizing: border-box;top: 0;bottom: 0;left: 50%;z-index: -1;}#sk-container-id-2 div.sk-parallel-item {display: flex;flex-direction: column;z-index: 1;position: relative;background-color: white;}#sk-container-id-2 div.sk-parallel-item:first-child::after {align-self: flex-end;width: 50%;}#sk-container-id-2 div.sk-parallel-item:last-child::after {align-self: flex-start;width: 50%;}#sk-container-id-2 div.sk-parallel-item:only-child::after {width: 0;}#sk-container-id-2 div.sk-dashed-wrapped {border: 1px dashed gray;margin: 0 0.4em 0.5em 0.4em;box-sizing: border-box;padding-bottom: 0.4em;background-color: white;}#sk-container-id-2 div.sk-label label {font-family: monospace;font-weight: bold;display: inline-block;line-height: 1.2em;}#sk-container-id-2 div.sk-label-container {text-align: center;}#sk-container-id-2 div.sk-container {/* jupyter's `normalize.less` sets `[hidden] { display: none; }` but bootstrap.min.css set `[hidden] { display: none !important; }` so we also need the `!important` here to be able to override the default hidden behavior on the sphinx rendered scikit-learn.org. See: https://github.com/scikit-learn/scikit-learn/issues/21755 */display: inline-block !important;position: relative;}#sk-container-id-2 div.sk-text-repr-fallback {display: none;}</style><div id=\"sk-container-id-2\" class=\"sk-top-container\"><div class=\"sk-text-repr-fallback\"><pre>ExtraTreesClassifier(min_samples_split=5)</pre><b>In a Jupyter environment, please rerun this cell to show the HTML representation or trust the notebook. <br />On GitHub, the HTML representation is unable to render, please try loading this page with nbviewer.org.</b></div><div class=\"sk-container\" hidden><div class=\"sk-item\"><div class=\"sk-estimator sk-toggleable\"><input class=\"sk-toggleable__control sk-hidden--visually\" id=\"sk-estimator-id-2\" type=\"checkbox\" checked><label for=\"sk-estimator-id-2\" class=\"sk-toggleable__label sk-toggleable__label-arrow\">ExtraTreesClassifier</label><div class=\"sk-toggleable__content\"><pre>ExtraTreesClassifier(min_samples_split=5)</pre></div></div></div></div></div>"
            ]
          },
          "metadata": {},
          "execution_count": 187
        }
      ]
    },
    {
      "cell_type": "markdown",
      "source": [
        "##Simulando a aplicação do modelo em dados não vistos"
      ],
      "metadata": {
        "id": "K6V-DK6xCZvH"
      }
    },
    {
      "cell_type": "markdown",
      "source": [
        "Para a simulação de novos dados, será feita a leitura de uma tabela com seis exemplos. Será levado em consideração que os dados já estão pré-processados, conforme tratamento feito anteriormente para os dados de treinamento. No entanto, como os dados são reais, a normalização e one-hot enconding será feita novamente, pois esse procedimento seria necessário para todas as entradas novas."
      ],
      "metadata": {
        "id": "oAwm-jP0QCXm"
      }
    },
    {
      "cell_type": "code",
      "source": [
        "# Informa a URL de importação do dataset\n",
        "url = \"https://raw.githubusercontent.com/AnnandaMS/In-Vehicle-Coupon-Recommendation-/main/in-vehicle-coupon-recommendation_PRD.csv\"\n",
        "\n",
        "\n",
        "# Lê o arquivo\n",
        "novosdados = pd.read_csv(url, delimiter=';')"
      ],
      "metadata": {
        "id": "92RNYAglYLtb"
      },
      "execution_count": null,
      "outputs": []
    },
    {
      "cell_type": "code",
      "source": [
        "novosdados.head()"
      ],
      "metadata": {
        "colab": {
          "base_uri": "https://localhost:8080/",
          "height": 461
        },
        "id": "fvfOkMrsioBF",
        "outputId": "629b37da-400e-4b23-c9da-2646e01f7b47"
      },
      "execution_count": null,
      "outputs": [
        {
          "output_type": "execute_result",
          "data": {
            "text/plain": [
              "       Destination                 Coupon  Gender      Age           Income  \\\n",
              "0  No Urgent Place           Coffee House    Male       21  $75000 - $87499   \n",
              "1  No Urgent Place                    Bar    Male       36  $87500 - $99999   \n",
              "2             Home           Coffee House  Female       31  $100000 or More   \n",
              "3  No Urgent Place                    Bar  Female  below21  $12500 - $24999   \n",
              "4             Home  Carry out & Take away  Female       36  $12500 - $24999   \n",
              "\n",
              "   Bar CoffeeHouse CarryAway RestaurantLessThan20 Restaurant20To50  \\\n",
              "0  1-3          <1       4-8                  1-3              1-3   \n",
              "1   <1          <1        <1                  1-3               <1   \n",
              "2   <1          <1        >8                  4-8              1-3   \n",
              "3   >8         1-3        <1                  4-8               >8   \n",
              "4   <1          <1       1-3                   <1               <1   \n",
              "\n",
              "   Temperature (°C)  Time (h)  Direction_same  \n",
              "0              26.7        14               0  \n",
              "1              26.7        10               0  \n",
              "2              26.7        18               0  \n",
              "3              12.8        10               0  \n",
              "4              -1.1        18               0  "
            ],
            "text/html": [
              "\n",
              "\n",
              "  <div id=\"df-3d9e498d-be19-4cc0-be22-a6b0896af619\">\n",
              "    <div class=\"colab-df-container\">\n",
              "      <div>\n",
              "<style scoped>\n",
              "    .dataframe tbody tr th:only-of-type {\n",
              "        vertical-align: middle;\n",
              "    }\n",
              "\n",
              "    .dataframe tbody tr th {\n",
              "        vertical-align: top;\n",
              "    }\n",
              "\n",
              "    .dataframe thead th {\n",
              "        text-align: right;\n",
              "    }\n",
              "</style>\n",
              "<table border=\"1\" class=\"dataframe\">\n",
              "  <thead>\n",
              "    <tr style=\"text-align: right;\">\n",
              "      <th></th>\n",
              "      <th>Destination</th>\n",
              "      <th>Coupon</th>\n",
              "      <th>Gender</th>\n",
              "      <th>Age</th>\n",
              "      <th>Income</th>\n",
              "      <th>Bar</th>\n",
              "      <th>CoffeeHouse</th>\n",
              "      <th>CarryAway</th>\n",
              "      <th>RestaurantLessThan20</th>\n",
              "      <th>Restaurant20To50</th>\n",
              "      <th>Temperature (°C)</th>\n",
              "      <th>Time (h)</th>\n",
              "      <th>Direction_same</th>\n",
              "    </tr>\n",
              "  </thead>\n",
              "  <tbody>\n",
              "    <tr>\n",
              "      <th>0</th>\n",
              "      <td>No Urgent Place</td>\n",
              "      <td>Coffee House</td>\n",
              "      <td>Male</td>\n",
              "      <td>21</td>\n",
              "      <td>$75000 - $87499</td>\n",
              "      <td>1-3</td>\n",
              "      <td>&lt;1</td>\n",
              "      <td>4-8</td>\n",
              "      <td>1-3</td>\n",
              "      <td>1-3</td>\n",
              "      <td>26.7</td>\n",
              "      <td>14</td>\n",
              "      <td>0</td>\n",
              "    </tr>\n",
              "    <tr>\n",
              "      <th>1</th>\n",
              "      <td>No Urgent Place</td>\n",
              "      <td>Bar</td>\n",
              "      <td>Male</td>\n",
              "      <td>36</td>\n",
              "      <td>$87500 - $99999</td>\n",
              "      <td>&lt;1</td>\n",
              "      <td>&lt;1</td>\n",
              "      <td>&lt;1</td>\n",
              "      <td>1-3</td>\n",
              "      <td>&lt;1</td>\n",
              "      <td>26.7</td>\n",
              "      <td>10</td>\n",
              "      <td>0</td>\n",
              "    </tr>\n",
              "    <tr>\n",
              "      <th>2</th>\n",
              "      <td>Home</td>\n",
              "      <td>Coffee House</td>\n",
              "      <td>Female</td>\n",
              "      <td>31</td>\n",
              "      <td>$100000 or More</td>\n",
              "      <td>&lt;1</td>\n",
              "      <td>&lt;1</td>\n",
              "      <td>&gt;8</td>\n",
              "      <td>4-8</td>\n",
              "      <td>1-3</td>\n",
              "      <td>26.7</td>\n",
              "      <td>18</td>\n",
              "      <td>0</td>\n",
              "    </tr>\n",
              "    <tr>\n",
              "      <th>3</th>\n",
              "      <td>No Urgent Place</td>\n",
              "      <td>Bar</td>\n",
              "      <td>Female</td>\n",
              "      <td>below21</td>\n",
              "      <td>$12500 - $24999</td>\n",
              "      <td>&gt;8</td>\n",
              "      <td>1-3</td>\n",
              "      <td>&lt;1</td>\n",
              "      <td>4-8</td>\n",
              "      <td>&gt;8</td>\n",
              "      <td>12.8</td>\n",
              "      <td>10</td>\n",
              "      <td>0</td>\n",
              "    </tr>\n",
              "    <tr>\n",
              "      <th>4</th>\n",
              "      <td>Home</td>\n",
              "      <td>Carry out &amp; Take away</td>\n",
              "      <td>Female</td>\n",
              "      <td>36</td>\n",
              "      <td>$12500 - $24999</td>\n",
              "      <td>&lt;1</td>\n",
              "      <td>&lt;1</td>\n",
              "      <td>1-3</td>\n",
              "      <td>&lt;1</td>\n",
              "      <td>&lt;1</td>\n",
              "      <td>-1.1</td>\n",
              "      <td>18</td>\n",
              "      <td>0</td>\n",
              "    </tr>\n",
              "  </tbody>\n",
              "</table>\n",
              "</div>\n",
              "      <button class=\"colab-df-convert\" onclick=\"convertToInteractive('df-3d9e498d-be19-4cc0-be22-a6b0896af619')\"\n",
              "              title=\"Convert this dataframe to an interactive table.\"\n",
              "              style=\"display:none;\">\n",
              "\n",
              "  <svg xmlns=\"http://www.w3.org/2000/svg\" height=\"24px\"viewBox=\"0 0 24 24\"\n",
              "       width=\"24px\">\n",
              "    <path d=\"M0 0h24v24H0V0z\" fill=\"none\"/>\n",
              "    <path d=\"M18.56 5.44l.94 2.06.94-2.06 2.06-.94-2.06-.94-.94-2.06-.94 2.06-2.06.94zm-11 1L8.5 8.5l.94-2.06 2.06-.94-2.06-.94L8.5 2.5l-.94 2.06-2.06.94zm10 10l.94 2.06.94-2.06 2.06-.94-2.06-.94-.94-2.06-.94 2.06-2.06.94z\"/><path d=\"M17.41 7.96l-1.37-1.37c-.4-.4-.92-.59-1.43-.59-.52 0-1.04.2-1.43.59L10.3 9.45l-7.72 7.72c-.78.78-.78 2.05 0 2.83L4 21.41c.39.39.9.59 1.41.59.51 0 1.02-.2 1.41-.59l7.78-7.78 2.81-2.81c.8-.78.8-2.07 0-2.86zM5.41 20L4 18.59l7.72-7.72 1.47 1.35L5.41 20z\"/>\n",
              "  </svg>\n",
              "      </button>\n",
              "\n",
              "\n",
              "\n",
              "    <div id=\"df-9ae268c1-1e91-4c65-a276-e45ac6d01f63\">\n",
              "      <button class=\"colab-df-quickchart\" onclick=\"quickchart('df-9ae268c1-1e91-4c65-a276-e45ac6d01f63')\"\n",
              "              title=\"Suggest charts.\"\n",
              "              style=\"display:none;\">\n",
              "\n",
              "<svg xmlns=\"http://www.w3.org/2000/svg\" height=\"24px\"viewBox=\"0 0 24 24\"\n",
              "     width=\"24px\">\n",
              "    <g>\n",
              "        <path d=\"M19 3H5c-1.1 0-2 .9-2 2v14c0 1.1.9 2 2 2h14c1.1 0 2-.9 2-2V5c0-1.1-.9-2-2-2zM9 17H7v-7h2v7zm4 0h-2V7h2v10zm4 0h-2v-4h2v4z\"/>\n",
              "    </g>\n",
              "</svg>\n",
              "      </button>\n",
              "    </div>\n",
              "\n",
              "<style>\n",
              "  .colab-df-quickchart {\n",
              "    background-color: #E8F0FE;\n",
              "    border: none;\n",
              "    border-radius: 50%;\n",
              "    cursor: pointer;\n",
              "    display: none;\n",
              "    fill: #1967D2;\n",
              "    height: 32px;\n",
              "    padding: 0 0 0 0;\n",
              "    width: 32px;\n",
              "  }\n",
              "\n",
              "  .colab-df-quickchart:hover {\n",
              "    background-color: #E2EBFA;\n",
              "    box-shadow: 0px 1px 2px rgba(60, 64, 67, 0.3), 0px 1px 3px 1px rgba(60, 64, 67, 0.15);\n",
              "    fill: #174EA6;\n",
              "  }\n",
              "\n",
              "  [theme=dark] .colab-df-quickchart {\n",
              "    background-color: #3B4455;\n",
              "    fill: #D2E3FC;\n",
              "  }\n",
              "\n",
              "  [theme=dark] .colab-df-quickchart:hover {\n",
              "    background-color: #434B5C;\n",
              "    box-shadow: 0px 1px 3px 1px rgba(0, 0, 0, 0.15);\n",
              "    filter: drop-shadow(0px 1px 2px rgba(0, 0, 0, 0.3));\n",
              "    fill: #FFFFFF;\n",
              "  }\n",
              "</style>\n",
              "\n",
              "    <script>\n",
              "      async function quickchart(key) {\n",
              "        const containerElement = document.querySelector('#' + key);\n",
              "        const charts = await google.colab.kernel.invokeFunction(\n",
              "            'suggestCharts', [key], {});\n",
              "      }\n",
              "    </script>\n",
              "\n",
              "      <script>\n",
              "\n",
              "function displayQuickchartButton(domScope) {\n",
              "  let quickchartButtonEl =\n",
              "    domScope.querySelector('#df-9ae268c1-1e91-4c65-a276-e45ac6d01f63 button.colab-df-quickchart');\n",
              "  quickchartButtonEl.style.display =\n",
              "    google.colab.kernel.accessAllowed ? 'block' : 'none';\n",
              "}\n",
              "\n",
              "        displayQuickchartButton(document);\n",
              "      </script>\n",
              "      <style>\n",
              "    .colab-df-container {\n",
              "      display:flex;\n",
              "      flex-wrap:wrap;\n",
              "      gap: 12px;\n",
              "    }\n",
              "\n",
              "    .colab-df-convert {\n",
              "      background-color: #E8F0FE;\n",
              "      border: none;\n",
              "      border-radius: 50%;\n",
              "      cursor: pointer;\n",
              "      display: none;\n",
              "      fill: #1967D2;\n",
              "      height: 32px;\n",
              "      padding: 0 0 0 0;\n",
              "      width: 32px;\n",
              "    }\n",
              "\n",
              "    .colab-df-convert:hover {\n",
              "      background-color: #E2EBFA;\n",
              "      box-shadow: 0px 1px 2px rgba(60, 64, 67, 0.3), 0px 1px 3px 1px rgba(60, 64, 67, 0.15);\n",
              "      fill: #174EA6;\n",
              "    }\n",
              "\n",
              "    [theme=dark] .colab-df-convert {\n",
              "      background-color: #3B4455;\n",
              "      fill: #D2E3FC;\n",
              "    }\n",
              "\n",
              "    [theme=dark] .colab-df-convert:hover {\n",
              "      background-color: #434B5C;\n",
              "      box-shadow: 0px 1px 3px 1px rgba(0, 0, 0, 0.15);\n",
              "      filter: drop-shadow(0px 1px 2px rgba(0, 0, 0, 0.3));\n",
              "      fill: #FFFFFF;\n",
              "    }\n",
              "  </style>\n",
              "\n",
              "      <script>\n",
              "        const buttonEl =\n",
              "          document.querySelector('#df-3d9e498d-be19-4cc0-be22-a6b0896af619 button.colab-df-convert');\n",
              "        buttonEl.style.display =\n",
              "          google.colab.kernel.accessAllowed ? 'block' : 'none';\n",
              "\n",
              "        async function convertToInteractive(key) {\n",
              "          const element = document.querySelector('#df-3d9e498d-be19-4cc0-be22-a6b0896af619');\n",
              "          const dataTable =\n",
              "            await google.colab.kernel.invokeFunction('convertToInteractive',\n",
              "                                                     [key], {});\n",
              "          if (!dataTable) return;\n",
              "\n",
              "          const docLinkHtml = 'Like what you see? Visit the ' +\n",
              "            '<a target=\"_blank\" href=https://colab.research.google.com/notebooks/data_table.ipynb>data table notebook</a>'\n",
              "            + ' to learn more about interactive tables.';\n",
              "          element.innerHTML = '';\n",
              "          dataTable['output_type'] = 'display_data';\n",
              "          await google.colab.output.renderOutput(dataTable, element);\n",
              "          const docLink = document.createElement('div');\n",
              "          docLink.innerHTML = docLinkHtml;\n",
              "          element.appendChild(docLink);\n",
              "        }\n",
              "      </script>\n",
              "    </div>\n",
              "  </div>\n"
            ]
          },
          "metadata": {},
          "execution_count": 189
        }
      ]
    },
    {
      "cell_type": "code",
      "source": [
        "# Separar variáveis categóricas e numéricas\n",
        "categorical = novosdados.values[:, 0:10]\n",
        "numeric = novosdados.values[:, 10:13]"
      ],
      "metadata": {
        "id": "NH1cBahwi6yt"
      },
      "execution_count": null,
      "outputs": []
    },
    {
      "cell_type": "markdown",
      "source": [
        "A quantidade de algarismos da transformação one-hot enconding depende da quantidade de classes para cada variável, ou seja, para uma variável com 3 opções o dado transformado terá 3 algarismos, enquanto se tivesse 8 opções teria 8 algarismos. A fim de transformar os novos dados da mesma maneira que foi feito no treinamento, esse informação será considerada no código a seguir."
      ],
      "metadata": {
        "id": "t5msicUnQ6in"
      }
    },
    {
      "cell_type": "code",
      "source": [
        "# Quantidade de opções em cada variável categórica, de acordo com o modelo treinado\n",
        "quantidade_opcoes = [3, 5, 2, 8, 10, 3, 3, 3, 3, 3]\n",
        "\n",
        "# Codificação one-hot para variáveis categóricas no conjunto de treinamento\n",
        "encoder = OneHotEncoder(categories=[range(n) for n in quantidade_opcoes], sparse=False, handle_unknown='ignore')\n",
        "entrada_encoded = encoder.fit_transform(categorical)\n",
        "\n",
        "# Normalização para variáveis numéricas no conjunto de treinamento\n",
        "scaler = StandardScaler()\n",
        "entrada_normalized = scaler.fit_transform(numeric)\n",
        "\n",
        "#concanetação das variáveis de entrada (numéricas e categóricas)\n",
        "entrada = np.concatenate((entrada_encoded, entrada_normalized), axis=1)\n"
      ],
      "metadata": {
        "id": "m3yEtAAwkgBp"
      },
      "execution_count": null,
      "outputs": []
    },
    {
      "cell_type": "markdown",
      "source": [
        "Finalmente, será feita a predição dos novos dados a partir do modelo proposto."
      ],
      "metadata": {
        "id": "Gl0akqewR36y"
      }
    },
    {
      "cell_type": "code",
      "source": [
        "# Predição de classes dos dados de entrada\n",
        "saidas = model.predict(entrada)\n",
        "print(saidas)"
      ],
      "metadata": {
        "colab": {
          "base_uri": "https://localhost:8080/"
        },
        "id": "PRjw7tz7lb0G",
        "outputId": "079810e0-ec07-439c-b36f-4d7aa41a8e5a"
      },
      "execution_count": null,
      "outputs": [
        {
          "output_type": "stream",
          "name": "stdout",
          "text": [
            "[1 1 1 1 1 1]\n"
          ]
        }
      ]
    }
  ]
}